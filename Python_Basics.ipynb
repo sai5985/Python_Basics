{
 "cells": [
  {
   "cell_type": "code",
   "execution_count": 2,
   "id": "996e7b7e",
   "metadata": {},
   "outputs": [],
   "source": [
    "import os\n",
    "import pandas as pd\n",
    "import numpy as np"
   ]
  },
  {
   "cell_type": "code",
   "execution_count": 3,
   "id": "dc7ef514",
   "metadata": {},
   "outputs": [],
   "source": [
    "os.chdir(\"/Users/saichandrareddy/Downloads/archive (1)\")"
   ]
  },
  {
   "cell_type": "code",
   "execution_count": 4,
   "id": "e1bc420e",
   "metadata": {},
   "outputs": [],
   "source": [
    "data = pd.read_csv(\"Online Retail.csv\")"
   ]
  },
  {
   "cell_type": "code",
   "execution_count": 5,
   "id": "11c9cc95",
   "metadata": {},
   "outputs": [
    {
     "data": {
      "text/html": [
       "<div>\n",
       "<style scoped>\n",
       "    .dataframe tbody tr th:only-of-type {\n",
       "        vertical-align: middle;\n",
       "    }\n",
       "\n",
       "    .dataframe tbody tr th {\n",
       "        vertical-align: top;\n",
       "    }\n",
       "\n",
       "    .dataframe thead th {\n",
       "        text-align: right;\n",
       "    }\n",
       "</style>\n",
       "<table border=\"1\" class=\"dataframe\">\n",
       "  <thead>\n",
       "    <tr style=\"text-align: right;\">\n",
       "      <th></th>\n",
       "      <th>InvoiceNo</th>\n",
       "      <th>StockCode</th>\n",
       "      <th>Description</th>\n",
       "      <th>Quantity</th>\n",
       "      <th>InvoiceDate</th>\n",
       "      <th>UnitPrice</th>\n",
       "      <th>CustomerID</th>\n",
       "      <th>Country</th>\n",
       "    </tr>\n",
       "  </thead>\n",
       "  <tbody>\n",
       "    <tr>\n",
       "      <th>0</th>\n",
       "      <td>536365</td>\n",
       "      <td>85123A</td>\n",
       "      <td>WHITE HANGING HEART T-LIGHT HOLDER</td>\n",
       "      <td>6</td>\n",
       "      <td>2010-12-01 08:26:00</td>\n",
       "      <td>2.55</td>\n",
       "      <td>17850</td>\n",
       "      <td>United Kingdom</td>\n",
       "    </tr>\n",
       "    <tr>\n",
       "      <th>1</th>\n",
       "      <td>536365</td>\n",
       "      <td>71053</td>\n",
       "      <td>WHITE METAL LANTERN</td>\n",
       "      <td>6</td>\n",
       "      <td>2010-12-01 08:26:00</td>\n",
       "      <td>3.39</td>\n",
       "      <td>17850</td>\n",
       "      <td>United Kingdom</td>\n",
       "    </tr>\n",
       "    <tr>\n",
       "      <th>2</th>\n",
       "      <td>536365</td>\n",
       "      <td>84406B</td>\n",
       "      <td>CREAM CUPID HEARTS COAT HANGER</td>\n",
       "      <td>8</td>\n",
       "      <td>2010-12-01 08:26:00</td>\n",
       "      <td>2.75</td>\n",
       "      <td>17850</td>\n",
       "      <td>United Kingdom</td>\n",
       "    </tr>\n",
       "    <tr>\n",
       "      <th>3</th>\n",
       "      <td>536365</td>\n",
       "      <td>84029G</td>\n",
       "      <td>KNITTED UNION FLAG HOT WATER BOTTLE</td>\n",
       "      <td>6</td>\n",
       "      <td>2010-12-01 08:26:00</td>\n",
       "      <td>3.39</td>\n",
       "      <td>17850</td>\n",
       "      <td>United Kingdom</td>\n",
       "    </tr>\n",
       "    <tr>\n",
       "      <th>4</th>\n",
       "      <td>536365</td>\n",
       "      <td>84029E</td>\n",
       "      <td>RED WOOLLY HOTTIE WHITE HEART.</td>\n",
       "      <td>6</td>\n",
       "      <td>2010-12-01 08:26:00</td>\n",
       "      <td>3.39</td>\n",
       "      <td>17850</td>\n",
       "      <td>United Kingdom</td>\n",
       "    </tr>\n",
       "  </tbody>\n",
       "</table>\n",
       "</div>"
      ],
      "text/plain": [
       "  InvoiceNo StockCode                          Description  Quantity  \\\n",
       "0    536365    85123A   WHITE HANGING HEART T-LIGHT HOLDER         6   \n",
       "1    536365     71053                  WHITE METAL LANTERN         6   \n",
       "2    536365    84406B       CREAM CUPID HEARTS COAT HANGER         8   \n",
       "3    536365    84029G  KNITTED UNION FLAG HOT WATER BOTTLE         6   \n",
       "4    536365    84029E       RED WOOLLY HOTTIE WHITE HEART.         6   \n",
       "\n",
       "           InvoiceDate  UnitPrice  CustomerID         Country  \n",
       "0  2010-12-01 08:26:00       2.55       17850  United Kingdom  \n",
       "1  2010-12-01 08:26:00       3.39       17850  United Kingdom  \n",
       "2  2010-12-01 08:26:00       2.75       17850  United Kingdom  \n",
       "3  2010-12-01 08:26:00       3.39       17850  United Kingdom  \n",
       "4  2010-12-01 08:26:00       3.39       17850  United Kingdom  "
      ]
     },
     "execution_count": 5,
     "metadata": {},
     "output_type": "execute_result"
    }
   ],
   "source": [
    "data.head()"
   ]
  },
  {
   "cell_type": "code",
   "execution_count": 6,
   "id": "da293863",
   "metadata": {},
   "outputs": [
    {
     "data": {
      "text/plain": [
       "(541909, 8)"
      ]
     },
     "execution_count": 6,
     "metadata": {},
     "output_type": "execute_result"
    }
   ],
   "source": [
    "data.shape"
   ]
  },
  {
   "cell_type": "code",
   "execution_count": 7,
   "id": "a6f6da0b",
   "metadata": {},
   "outputs": [
    {
     "data": {
      "text/plain": [
       "541909"
      ]
     },
     "execution_count": 7,
     "metadata": {},
     "output_type": "execute_result"
    }
   ],
   "source": [
    "len(data)"
   ]
  },
  {
   "cell_type": "code",
   "execution_count": 8,
   "id": "67073af1",
   "metadata": {
    "scrolled": true
   },
   "outputs": [
    {
     "data": {
      "text/html": [
       "<div>\n",
       "<style scoped>\n",
       "    .dataframe tbody tr th:only-of-type {\n",
       "        vertical-align: middle;\n",
       "    }\n",
       "\n",
       "    .dataframe tbody tr th {\n",
       "        vertical-align: top;\n",
       "    }\n",
       "\n",
       "    .dataframe thead th {\n",
       "        text-align: right;\n",
       "    }\n",
       "</style>\n",
       "<table border=\"1\" class=\"dataframe\">\n",
       "  <thead>\n",
       "    <tr style=\"text-align: right;\">\n",
       "      <th></th>\n",
       "      <th>Quantity</th>\n",
       "      <th>UnitPrice</th>\n",
       "      <th>CustomerID</th>\n",
       "    </tr>\n",
       "  </thead>\n",
       "  <tbody>\n",
       "    <tr>\n",
       "      <th>count</th>\n",
       "      <td>541909.000000</td>\n",
       "      <td>541909.000000</td>\n",
       "      <td>541909.000000</td>\n",
       "    </tr>\n",
       "    <tr>\n",
       "      <th>mean</th>\n",
       "      <td>9.552250</td>\n",
       "      <td>4.611114</td>\n",
       "      <td>15287.518434</td>\n",
       "    </tr>\n",
       "    <tr>\n",
       "      <th>std</th>\n",
       "      <td>218.081158</td>\n",
       "      <td>96.759853</td>\n",
       "      <td>1484.746041</td>\n",
       "    </tr>\n",
       "    <tr>\n",
       "      <th>min</th>\n",
       "      <td>-80995.000000</td>\n",
       "      <td>-11062.060000</td>\n",
       "      <td>12346.000000</td>\n",
       "    </tr>\n",
       "    <tr>\n",
       "      <th>25%</th>\n",
       "      <td>1.000000</td>\n",
       "      <td>1.250000</td>\n",
       "      <td>14367.000000</td>\n",
       "    </tr>\n",
       "    <tr>\n",
       "      <th>50%</th>\n",
       "      <td>3.000000</td>\n",
       "      <td>2.080000</td>\n",
       "      <td>15287.000000</td>\n",
       "    </tr>\n",
       "    <tr>\n",
       "      <th>75%</th>\n",
       "      <td>10.000000</td>\n",
       "      <td>4.130000</td>\n",
       "      <td>16255.000000</td>\n",
       "    </tr>\n",
       "    <tr>\n",
       "      <th>max</th>\n",
       "      <td>80995.000000</td>\n",
       "      <td>38970.000000</td>\n",
       "      <td>18287.000000</td>\n",
       "    </tr>\n",
       "  </tbody>\n",
       "</table>\n",
       "</div>"
      ],
      "text/plain": [
       "            Quantity      UnitPrice     CustomerID\n",
       "count  541909.000000  541909.000000  541909.000000\n",
       "mean        9.552250       4.611114   15287.518434\n",
       "std       218.081158      96.759853    1484.746041\n",
       "min    -80995.000000  -11062.060000   12346.000000\n",
       "25%         1.000000       1.250000   14367.000000\n",
       "50%         3.000000       2.080000   15287.000000\n",
       "75%        10.000000       4.130000   16255.000000\n",
       "max     80995.000000   38970.000000   18287.000000"
      ]
     },
     "execution_count": 8,
     "metadata": {},
     "output_type": "execute_result"
    }
   ],
   "source": [
    "data.describe()"
   ]
  },
  {
   "cell_type": "code",
   "execution_count": 9,
   "id": "ce3f5739",
   "metadata": {},
   "outputs": [
    {
     "name": "stdout",
     "output_type": "stream",
     "text": [
      "0         2.55\n",
      "1         3.39\n",
      "2         2.75\n",
      "3         3.39\n",
      "4         3.39\n",
      "          ... \n",
      "541904    0.85\n",
      "541905    2.10\n",
      "541906    4.15\n",
      "541907    4.15\n",
      "541908    4.95\n",
      "Name: UnitPrice, Length: 541909, dtype: float64\n"
     ]
    }
   ],
   "source": [
    "print(data.UnitPrice)"
   ]
  },
  {
   "cell_type": "code",
   "execution_count": 10,
   "id": "78a4f48b",
   "metadata": {
    "scrolled": true
   },
   "outputs": [
    {
     "ename": "KeyError",
     "evalue": "5",
     "output_type": "error",
     "traceback": [
      "\u001b[0;31m---------------------------------------------------------------------------\u001b[0m",
      "\u001b[0;31mKeyError\u001b[0m                                  Traceback (most recent call last)",
      "File \u001b[0;32m~/opt/anaconda3/lib/python3.9/site-packages/pandas/core/indexes/base.py:3621\u001b[0m, in \u001b[0;36mIndex.get_loc\u001b[0;34m(self, key, method, tolerance)\u001b[0m\n\u001b[1;32m   3620\u001b[0m \u001b[38;5;28;01mtry\u001b[39;00m:\n\u001b[0;32m-> 3621\u001b[0m     \u001b[38;5;28;01mreturn\u001b[39;00m \u001b[38;5;28;43mself\u001b[39;49m\u001b[38;5;241;43m.\u001b[39;49m\u001b[43m_engine\u001b[49m\u001b[38;5;241;43m.\u001b[39;49m\u001b[43mget_loc\u001b[49m\u001b[43m(\u001b[49m\u001b[43mcasted_key\u001b[49m\u001b[43m)\u001b[49m\n\u001b[1;32m   3622\u001b[0m \u001b[38;5;28;01mexcept\u001b[39;00m \u001b[38;5;167;01mKeyError\u001b[39;00m \u001b[38;5;28;01mas\u001b[39;00m err:\n",
      "File \u001b[0;32m~/opt/anaconda3/lib/python3.9/site-packages/pandas/_libs/index.pyx:136\u001b[0m, in \u001b[0;36mpandas._libs.index.IndexEngine.get_loc\u001b[0;34m()\u001b[0m\n",
      "File \u001b[0;32m~/opt/anaconda3/lib/python3.9/site-packages/pandas/_libs/index.pyx:163\u001b[0m, in \u001b[0;36mpandas._libs.index.IndexEngine.get_loc\u001b[0;34m()\u001b[0m\n",
      "File \u001b[0;32mpandas/_libs/hashtable_class_helper.pxi:5198\u001b[0m, in \u001b[0;36mpandas._libs.hashtable.PyObjectHashTable.get_item\u001b[0;34m()\u001b[0m\n",
      "File \u001b[0;32mpandas/_libs/hashtable_class_helper.pxi:5206\u001b[0m, in \u001b[0;36mpandas._libs.hashtable.PyObjectHashTable.get_item\u001b[0;34m()\u001b[0m\n",
      "\u001b[0;31mKeyError\u001b[0m: 5",
      "\nThe above exception was the direct cause of the following exception:\n",
      "\u001b[0;31mKeyError\u001b[0m                                  Traceback (most recent call last)",
      "Input \u001b[0;32mIn [10]\u001b[0m, in \u001b[0;36m<cell line: 1>\u001b[0;34m()\u001b[0m\n\u001b[0;32m----> 1\u001b[0m \u001b[38;5;28mprint\u001b[39m(\u001b[43mdata\u001b[49m\u001b[43m[\u001b[49m\u001b[38;5;241;43m5\u001b[39;49m\u001b[43m]\u001b[49m\u001b[38;5;241m.\u001b[39mtitle())\n",
      "File \u001b[0;32m~/opt/anaconda3/lib/python3.9/site-packages/pandas/core/frame.py:3505\u001b[0m, in \u001b[0;36mDataFrame.__getitem__\u001b[0;34m(self, key)\u001b[0m\n\u001b[1;32m   3503\u001b[0m \u001b[38;5;28;01mif\u001b[39;00m \u001b[38;5;28mself\u001b[39m\u001b[38;5;241m.\u001b[39mcolumns\u001b[38;5;241m.\u001b[39mnlevels \u001b[38;5;241m>\u001b[39m \u001b[38;5;241m1\u001b[39m:\n\u001b[1;32m   3504\u001b[0m     \u001b[38;5;28;01mreturn\u001b[39;00m \u001b[38;5;28mself\u001b[39m\u001b[38;5;241m.\u001b[39m_getitem_multilevel(key)\n\u001b[0;32m-> 3505\u001b[0m indexer \u001b[38;5;241m=\u001b[39m \u001b[38;5;28;43mself\u001b[39;49m\u001b[38;5;241;43m.\u001b[39;49m\u001b[43mcolumns\u001b[49m\u001b[38;5;241;43m.\u001b[39;49m\u001b[43mget_loc\u001b[49m\u001b[43m(\u001b[49m\u001b[43mkey\u001b[49m\u001b[43m)\u001b[49m\n\u001b[1;32m   3506\u001b[0m \u001b[38;5;28;01mif\u001b[39;00m is_integer(indexer):\n\u001b[1;32m   3507\u001b[0m     indexer \u001b[38;5;241m=\u001b[39m [indexer]\n",
      "File \u001b[0;32m~/opt/anaconda3/lib/python3.9/site-packages/pandas/core/indexes/base.py:3623\u001b[0m, in \u001b[0;36mIndex.get_loc\u001b[0;34m(self, key, method, tolerance)\u001b[0m\n\u001b[1;32m   3621\u001b[0m     \u001b[38;5;28;01mreturn\u001b[39;00m \u001b[38;5;28mself\u001b[39m\u001b[38;5;241m.\u001b[39m_engine\u001b[38;5;241m.\u001b[39mget_loc(casted_key)\n\u001b[1;32m   3622\u001b[0m \u001b[38;5;28;01mexcept\u001b[39;00m \u001b[38;5;167;01mKeyError\u001b[39;00m \u001b[38;5;28;01mas\u001b[39;00m err:\n\u001b[0;32m-> 3623\u001b[0m     \u001b[38;5;28;01mraise\u001b[39;00m \u001b[38;5;167;01mKeyError\u001b[39;00m(key) \u001b[38;5;28;01mfrom\u001b[39;00m \u001b[38;5;21;01merr\u001b[39;00m\n\u001b[1;32m   3624\u001b[0m \u001b[38;5;28;01mexcept\u001b[39;00m \u001b[38;5;167;01mTypeError\u001b[39;00m:\n\u001b[1;32m   3625\u001b[0m     \u001b[38;5;66;03m# If we have a listlike key, _check_indexing_error will raise\u001b[39;00m\n\u001b[1;32m   3626\u001b[0m     \u001b[38;5;66;03m#  InvalidIndexError. Otherwise we fall through and re-raise\u001b[39;00m\n\u001b[1;32m   3627\u001b[0m     \u001b[38;5;66;03m#  the TypeError.\u001b[39;00m\n\u001b[1;32m   3628\u001b[0m     \u001b[38;5;28mself\u001b[39m\u001b[38;5;241m.\u001b[39m_check_indexing_error(key)\n",
      "\u001b[0;31mKeyError\u001b[0m: 5"
     ]
    }
   ],
   "source": [
    "print(data[5].title())"
   ]
  },
  {
   "cell_type": "code",
   "execution_count": 15,
   "id": "f4a35a9e",
   "metadata": {},
   "outputs": [
    {
     "data": {
      "text/plain": [
       "Index(['InvoiceNo', 'StockCode', 'Description', 'Quantity', 'InvoiceDate',\n",
       "       'UnitPrice', 'CustomerID', 'Country'],\n",
       "      dtype='object')"
      ]
     },
     "execution_count": 15,
     "metadata": {},
     "output_type": "execute_result"
    }
   ],
   "source": [
    "data.columns"
   ]
  },
  {
   "cell_type": "code",
   "execution_count": 18,
   "id": "a5d4398d",
   "metadata": {},
   "outputs": [
    {
     "data": {
      "text/plain": [
       "0         2.55\n",
       "1         3.39\n",
       "2         2.75\n",
       "3         3.39\n",
       "4         3.39\n",
       "          ... \n",
       "541904    0.85\n",
       "541905    2.10\n",
       "541906    4.15\n",
       "541907    4.15\n",
       "541908    4.95\n",
       "Name: UnitPrice, Length: 541909, dtype: float64"
      ]
     },
     "execution_count": 18,
     "metadata": {},
     "output_type": "execute_result"
    }
   ],
   "source": [
    "(data[\"UnitPrice\"])"
   ]
  },
  {
   "cell_type": "code",
   "execution_count": 19,
   "id": "2a35da71",
   "metadata": {},
   "outputs": [
    {
     "name": "stdout",
     "output_type": "stream",
     "text": [
      "InvoiceNo\n",
      "StockCode\n",
      "Description\n",
      "Quantity\n",
      "InvoiceDate\n",
      "UnitPrice\n",
      "CustomerID\n",
      "Country\n"
     ]
    }
   ],
   "source": [
    "for col in data.columns:\n",
    "    print(col)\n",
    "    "
   ]
  },
  {
   "cell_type": "code",
   "execution_count": 21,
   "id": "34926987",
   "metadata": {},
   "outputs": [
    {
     "ename": "NameError",
     "evalue": "name 'mean' is not defined",
     "output_type": "error",
     "traceback": [
      "\u001b[0;31m---------------------------------------------------------------------------\u001b[0m",
      "\u001b[0;31mNameError\u001b[0m                                 Traceback (most recent call last)",
      "Input \u001b[0;32mIn [21]\u001b[0m, in \u001b[0;36m<cell line: 1>\u001b[0;34m()\u001b[0m\n\u001b[0;32m----> 1\u001b[0m \u001b[38;5;28mprint\u001b[39m(\u001b[43mmean\u001b[49m(data[\u001b[38;5;124m\"\u001b[39m\u001b[38;5;124mUnitPrice\u001b[39m\u001b[38;5;124m\"\u001b[39m]))\n",
      "\u001b[0;31mNameError\u001b[0m: name 'mean' is not defined"
     ]
    }
   ],
   "source": [
    "print(mean(data[\"UnitPrice\"]))"
   ]
  },
  {
   "cell_type": "code",
   "execution_count": 22,
   "id": "2a6d2554",
   "metadata": {},
   "outputs": [],
   "source": [
    "Unit = data[\"UnitPrice\"]"
   ]
  },
  {
   "cell_type": "code",
   "execution_count": 23,
   "id": "9f1bc820",
   "metadata": {},
   "outputs": [],
   "source": [
    "Average = sum(Unit)/len(Unit)"
   ]
  },
  {
   "cell_type": "code",
   "execution_count": 25,
   "id": "075ef5e8",
   "metadata": {},
   "outputs": [
    {
     "name": "stdout",
     "output_type": "stream",
     "text": [
      "4.611113626083471\n"
     ]
    }
   ],
   "source": [
    "print(Average)"
   ]
  },
  {
   "cell_type": "code",
   "execution_count": 27,
   "id": "db0e3274",
   "metadata": {},
   "outputs": [
    {
     "data": {
      "text/html": [
       "<div>\n",
       "<style scoped>\n",
       "    .dataframe tbody tr th:only-of-type {\n",
       "        vertical-align: middle;\n",
       "    }\n",
       "\n",
       "    .dataframe tbody tr th {\n",
       "        vertical-align: top;\n",
       "    }\n",
       "\n",
       "    .dataframe thead th {\n",
       "        text-align: right;\n",
       "    }\n",
       "</style>\n",
       "<table border=\"1\" class=\"dataframe\">\n",
       "  <thead>\n",
       "    <tr style=\"text-align: right;\">\n",
       "      <th></th>\n",
       "      <th>Quantity</th>\n",
       "      <th>UnitPrice</th>\n",
       "      <th>CustomerID</th>\n",
       "    </tr>\n",
       "  </thead>\n",
       "  <tbody>\n",
       "    <tr>\n",
       "      <th>count</th>\n",
       "      <td>541909.000000</td>\n",
       "      <td>541909.000000</td>\n",
       "      <td>541909.000000</td>\n",
       "    </tr>\n",
       "    <tr>\n",
       "      <th>mean</th>\n",
       "      <td>9.552250</td>\n",
       "      <td>4.611114</td>\n",
       "      <td>15287.518434</td>\n",
       "    </tr>\n",
       "    <tr>\n",
       "      <th>std</th>\n",
       "      <td>218.081158</td>\n",
       "      <td>96.759853</td>\n",
       "      <td>1484.746041</td>\n",
       "    </tr>\n",
       "    <tr>\n",
       "      <th>min</th>\n",
       "      <td>-80995.000000</td>\n",
       "      <td>-11062.060000</td>\n",
       "      <td>12346.000000</td>\n",
       "    </tr>\n",
       "    <tr>\n",
       "      <th>25%</th>\n",
       "      <td>1.000000</td>\n",
       "      <td>1.250000</td>\n",
       "      <td>14367.000000</td>\n",
       "    </tr>\n",
       "    <tr>\n",
       "      <th>50%</th>\n",
       "      <td>3.000000</td>\n",
       "      <td>2.080000</td>\n",
       "      <td>15287.000000</td>\n",
       "    </tr>\n",
       "    <tr>\n",
       "      <th>75%</th>\n",
       "      <td>10.000000</td>\n",
       "      <td>4.130000</td>\n",
       "      <td>16255.000000</td>\n",
       "    </tr>\n",
       "    <tr>\n",
       "      <th>max</th>\n",
       "      <td>80995.000000</td>\n",
       "      <td>38970.000000</td>\n",
       "      <td>18287.000000</td>\n",
       "    </tr>\n",
       "  </tbody>\n",
       "</table>\n",
       "</div>"
      ],
      "text/plain": [
       "            Quantity      UnitPrice     CustomerID\n",
       "count  541909.000000  541909.000000  541909.000000\n",
       "mean        9.552250       4.611114   15287.518434\n",
       "std       218.081158      96.759853    1484.746041\n",
       "min    -80995.000000  -11062.060000   12346.000000\n",
       "25%         1.000000       1.250000   14367.000000\n",
       "50%         3.000000       2.080000   15287.000000\n",
       "75%        10.000000       4.130000   16255.000000\n",
       "max     80995.000000   38970.000000   18287.000000"
      ]
     },
     "execution_count": 27,
     "metadata": {},
     "output_type": "execute_result"
    }
   ],
   "source": [
    "data.describe()"
   ]
  },
  {
   "cell_type": "code",
   "execution_count": 28,
   "id": "6022e69e",
   "metadata": {},
   "outputs": [
    {
     "name": "stdout",
     "output_type": "stream",
     "text": [
      " The average price of the item. 4.611113626083471\n"
     ]
    }
   ],
   "source": [
    "print(f\" The average price of the item. {Average}\")"
   ]
  },
  {
   "cell_type": "code",
   "execution_count": 32,
   "id": "207caa2b",
   "metadata": {},
   "outputs": [
    {
     "data": {
      "text/plain": [
       "38970.0"
      ]
     },
     "execution_count": 32,
     "metadata": {},
     "output_type": "execute_result"
    }
   ],
   "source": [
    "max(data[\"UnitPrice\"])"
   ]
  },
  {
   "cell_type": "code",
   "execution_count": 34,
   "id": "d77d66e2",
   "metadata": {},
   "outputs": [
    {
     "data": {
      "text/plain": [
       "InvoiceNo      541909\n",
       "StockCode      541909\n",
       "Description    540455\n",
       "Quantity       541909\n",
       "InvoiceDate    541909\n",
       "UnitPrice      541909\n",
       "CustomerID     541909\n",
       "Country        541909\n",
       "dtype: int64"
      ]
     },
     "execution_count": 34,
     "metadata": {},
     "output_type": "execute_result"
    }
   ],
   "source": [
    "data.count()"
   ]
  },
  {
   "cell_type": "code",
   "execution_count": 35,
   "id": "e97a333c",
   "metadata": {},
   "outputs": [
    {
     "data": {
      "text/plain": [
       "541909"
      ]
     },
     "execution_count": 35,
     "metadata": {},
     "output_type": "execute_result"
    }
   ],
   "source": [
    "len(data)"
   ]
  },
  {
   "cell_type": "code",
   "execution_count": 37,
   "id": "cc9de164",
   "metadata": {},
   "outputs": [
    {
     "data": {
      "text/plain": [
       "-11062.06"
      ]
     },
     "execution_count": 37,
     "metadata": {},
     "output_type": "execute_result"
    }
   ],
   "source": [
    "min(data[\"UnitPrice\"])"
   ]
  },
  {
   "cell_type": "code",
   "execution_count": 43,
   "id": "1ca3a183",
   "metadata": {},
   "outputs": [],
   "source": [
    "df = max(data[\"UnitPrice\"]) - min(data[\"UnitPrice\"])"
   ]
  },
  {
   "cell_type": "code",
   "execution_count": 44,
   "id": "bdd1d8f9",
   "metadata": {},
   "outputs": [
    {
     "data": {
      "text/plain": [
       "50032.06"
      ]
     },
     "execution_count": 44,
     "metadata": {},
     "output_type": "execute_result"
    }
   ],
   "source": [
    "df"
   ]
  },
  {
   "cell_type": "code",
   "execution_count": 45,
   "id": "001159b3",
   "metadata": {},
   "outputs": [],
   "source": [
    "data_1 = [\"Sonata\",\"Accord\",\"Rav4\"]"
   ]
  },
  {
   "cell_type": "code",
   "execution_count": 46,
   "id": "4c1ece1f",
   "metadata": {},
   "outputs": [
    {
     "data": {
      "text/plain": [
       "list"
      ]
     },
     "execution_count": 46,
     "metadata": {},
     "output_type": "execute_result"
    }
   ],
   "source": [
    "type(data_1)"
   ]
  },
  {
   "cell_type": "code",
   "execution_count": 47,
   "id": "8a155ca4",
   "metadata": {},
   "outputs": [],
   "source": [
    "data_1.append(\"Focus\")"
   ]
  },
  {
   "cell_type": "code",
   "execution_count": 48,
   "id": "e41c6b86",
   "metadata": {},
   "outputs": [
    {
     "data": {
      "text/plain": [
       "['Sonata', 'Accord', 'Rav4', 'Focus']"
      ]
     },
     "execution_count": 48,
     "metadata": {},
     "output_type": "execute_result"
    }
   ],
   "source": [
    "data_1"
   ]
  },
  {
   "cell_type": "code",
   "execution_count": 54,
   "id": "337c8fd0",
   "metadata": {},
   "outputs": [],
   "source": [
    "data_1.insert(2,\"Subharu\")"
   ]
  },
  {
   "cell_type": "code",
   "execution_count": 55,
   "id": "946d18ae",
   "metadata": {},
   "outputs": [
    {
     "data": {
      "text/plain": [
       "['Sonata', 'Accord', 'Subharu', 'Subharu', 'Rav4', 'Focus', 'Subharu']"
      ]
     },
     "execution_count": 55,
     "metadata": {},
     "output_type": "execute_result"
    }
   ],
   "source": [
    "data_1"
   ]
  },
  {
   "cell_type": "code",
   "execution_count": 56,
   "id": "4bec3783",
   "metadata": {},
   "outputs": [
    {
     "ename": "SyntaxError",
     "evalue": "invalid syntax (3043106642.py, line 1)",
     "output_type": "error",
     "traceback": [
      "\u001b[0;36m  Input \u001b[0;32mIn [56]\u001b[0;36m\u001b[0m\n\u001b[0;31m    data_1.del(\"Subharu\")\u001b[0m\n\u001b[0m           ^\u001b[0m\n\u001b[0;31mSyntaxError\u001b[0m\u001b[0;31m:\u001b[0m invalid syntax\n"
     ]
    }
   ],
   "source": [
    "data_1.del(\"Subharu\")"
   ]
  },
  {
   "cell_type": "code",
   "execution_count": 57,
   "id": "83057fed",
   "metadata": {},
   "outputs": [],
   "source": [
    "del data_1[2]"
   ]
  },
  {
   "cell_type": "code",
   "execution_count": 58,
   "id": "61b2ba94",
   "metadata": {},
   "outputs": [
    {
     "data": {
      "text/plain": [
       "['Sonata', 'Accord', 'Subharu', 'Rav4', 'Focus', 'Subharu']"
      ]
     },
     "execution_count": 58,
     "metadata": {},
     "output_type": "execute_result"
    }
   ],
   "source": [
    "data_1"
   ]
  },
  {
   "cell_type": "code",
   "execution_count": 59,
   "id": "a1bb5e65",
   "metadata": {},
   "outputs": [],
   "source": [
    "del data_1[-1]"
   ]
  },
  {
   "cell_type": "code",
   "execution_count": 60,
   "id": "e558c162",
   "metadata": {},
   "outputs": [
    {
     "data": {
      "text/plain": [
       "['Sonata', 'Accord', 'Subharu', 'Rav4', 'Focus']"
      ]
     },
     "execution_count": 60,
     "metadata": {},
     "output_type": "execute_result"
    }
   ],
   "source": [
    "data_1"
   ]
  },
  {
   "cell_type": "code",
   "execution_count": 61,
   "id": "84f96095",
   "metadata": {},
   "outputs": [],
   "source": [
    "del data_1[:2]"
   ]
  },
  {
   "cell_type": "code",
   "execution_count": 62,
   "id": "1e454f2b",
   "metadata": {},
   "outputs": [
    {
     "data": {
      "text/plain": [
       "['Subharu', 'Rav4', 'Focus']"
      ]
     },
     "execution_count": 62,
     "metadata": {},
     "output_type": "execute_result"
    }
   ],
   "source": [
    "data_1"
   ]
  },
  {
   "cell_type": "code",
   "execution_count": 63,
   "id": "5176b9ee",
   "metadata": {},
   "outputs": [
    {
     "data": {
      "text/plain": [
       "['Subharu', 'Rav4', 'Focus']"
      ]
     },
     "execution_count": 63,
     "metadata": {},
     "output_type": "execute_result"
    }
   ],
   "source": [
    "data_1"
   ]
  },
  {
   "cell_type": "code",
   "execution_count": 65,
   "id": "b42e2f6d",
   "metadata": {},
   "outputs": [
    {
     "ename": "TypeError",
     "evalue": "'builtin_function_or_method' object is not subscriptable",
     "output_type": "error",
     "traceback": [
      "\u001b[0;31m---------------------------------------------------------------------------\u001b[0m",
      "\u001b[0;31mTypeError\u001b[0m                                 Traceback (most recent call last)",
      "Input \u001b[0;32mIn [65]\u001b[0m, in \u001b[0;36m<cell line: 1>\u001b[0;34m()\u001b[0m\n\u001b[0;32m----> 1\u001b[0m \u001b[43mdata_1\u001b[49m\u001b[38;5;241;43m.\u001b[39;49m\u001b[43mappend\u001b[49m\u001b[43m[\u001b[49m\u001b[38;5;124;43m\"\u001b[39;49m\u001b[38;5;124;43mSonata\u001b[39;49m\u001b[38;5;124;43m\"\u001b[39;49m\u001b[43m,\u001b[49m\u001b[38;5;124;43m\"\u001b[39;49m\u001b[38;5;124;43mAccord\u001b[39;49m\u001b[38;5;124;43m\"\u001b[39;49m\u001b[43m,\u001b[49m\u001b[38;5;124;43m\"\u001b[39;49m\u001b[38;5;124;43mSubharu\u001b[39;49m\u001b[38;5;124;43m\"\u001b[39;49m\u001b[43m,\u001b[49m\u001b[38;5;124;43m\"\u001b[39;49m\u001b[38;5;124;43mRav4\u001b[39;49m\u001b[38;5;124;43m\"\u001b[39;49m\u001b[43m,\u001b[49m\u001b[38;5;124;43m\"\u001b[39;49m\u001b[38;5;124;43mBMW\u001b[39;49m\u001b[38;5;124;43m\"\u001b[39;49m\u001b[43m,\u001b[49m\u001b[38;5;124;43m\"\u001b[39;49m\u001b[38;5;124;43mBenz\u001b[39;49m\u001b[38;5;124;43m\"\u001b[39;49m\u001b[43m]\u001b[49m\n",
      "\u001b[0;31mTypeError\u001b[0m: 'builtin_function_or_method' object is not subscriptable"
     ]
    }
   ],
   "source": [
    "data_1.append[\"Sonata\",\"Accord\",\"Subharu\",\"Rav4\",\"BMW\",\"Benz\"]"
   ]
  },
  {
   "cell_type": "code",
   "execution_count": 70,
   "id": "1e923bb3",
   "metadata": {},
   "outputs": [],
   "source": [
    "data_2 = [\"Sonata\",\"Accord\",\"Subharu\",\"Rav4\",\"BMW\",\"Benz\"]"
   ]
  },
  {
   "cell_type": "code",
   "execution_count": 71,
   "id": "5ff0da86",
   "metadata": {},
   "outputs": [
    {
     "data": {
      "text/plain": [
       "list"
      ]
     },
     "execution_count": 71,
     "metadata": {},
     "output_type": "execute_result"
    }
   ],
   "source": [
    "type(data_2)"
   ]
  },
  {
   "cell_type": "code",
   "execution_count": 72,
   "id": "ab3d1879",
   "metadata": {},
   "outputs": [
    {
     "name": "stdout",
     "output_type": "stream",
     "text": [
      "['Subharu', 'Rav4', 'Focus', 'Sonata', 'Accord', 'Subharu', 'Rav4', 'BMW', 'Benz']\n"
     ]
    }
   ],
   "source": [
    "for data_3 in data_2:\n",
    "    data_1.append(data_3)\n",
    "print(data_1)"
   ]
  },
  {
   "cell_type": "code",
   "execution_count": 75,
   "id": "d9f47b12",
   "metadata": {},
   "outputs": [],
   "source": [
    "dd = data_1.pop(2)"
   ]
  },
  {
   "cell_type": "code",
   "execution_count": 76,
   "id": "c27a0bc8",
   "metadata": {},
   "outputs": [
    {
     "data": {
      "text/plain": [
       "'Sonata'"
      ]
     },
     "execution_count": 76,
     "metadata": {},
     "output_type": "execute_result"
    }
   ],
   "source": [
    "dd"
   ]
  },
  {
   "cell_type": "code",
   "execution_count": 77,
   "id": "1bbab5d2",
   "metadata": {},
   "outputs": [
    {
     "name": "stdout",
     "output_type": "stream",
     "text": [
      "Sonata is not my choice of interest. Because ford is not reliable after certain miles.\n"
     ]
    }
   ],
   "source": [
    "print(f\"{dd} is not my choice of interest. Because ford is not reliable after certain miles.\")"
   ]
  },
  {
   "cell_type": "code",
   "execution_count": 78,
   "id": "5a8540d9",
   "metadata": {},
   "outputs": [
    {
     "data": {
      "text/plain": [
       "['Subharu', 'Rav4', 'Accord', 'Subharu', 'Rav4', 'BMW', 'Benz']"
      ]
     },
     "execution_count": 78,
     "metadata": {},
     "output_type": "execute_result"
    }
   ],
   "source": [
    "data_1"
   ]
  },
  {
   "cell_type": "code",
   "execution_count": 79,
   "id": "9092aa44",
   "metadata": {},
   "outputs": [],
   "source": [
    "d = [\"Rice\",\"Pappu\",\"Milk\",\"Curd\"]"
   ]
  },
  {
   "cell_type": "code",
   "execution_count": 80,
   "id": "d8a4a0ee",
   "metadata": {},
   "outputs": [],
   "source": [
    "f = [\"Rice\",\"Dal\",\"Milk\",\"Curd\"]"
   ]
  },
  {
   "cell_type": "code",
   "execution_count": 85,
   "id": "911b1c6c",
   "metadata": {},
   "outputs": [],
   "source": [
    "d = f[:]"
   ]
  },
  {
   "cell_type": "code",
   "execution_count": 86,
   "id": "5407d196",
   "metadata": {},
   "outputs": [
    {
     "name": "stdout",
     "output_type": "stream",
     "text": [
      "['Rice', 'Dal', 'Milk', 'Curd', 'Water']\n"
     ]
    }
   ],
   "source": [
    "print(d)"
   ]
  },
  {
   "cell_type": "code",
   "execution_count": 83,
   "id": "f2426acb",
   "metadata": {},
   "outputs": [],
   "source": [
    "f.append(\"Water\")"
   ]
  },
  {
   "cell_type": "code",
   "execution_count": 84,
   "id": "193e785f",
   "metadata": {},
   "outputs": [
    {
     "name": "stdout",
     "output_type": "stream",
     "text": [
      "['Rice', 'Dal', 'Milk', 'Curd']\n"
     ]
    }
   ],
   "source": [
    "print(d)"
   ]
  },
  {
   "cell_type": "code",
   "execution_count": 102,
   "id": "2f57138f",
   "metadata": {},
   "outputs": [],
   "source": [
    "My_food = [\"pizza\",\"friedrice\",\"egg\",\"chicken\"]"
   ]
  },
  {
   "cell_type": "code",
   "execution_count": 103,
   "id": "7807093a",
   "metadata": {},
   "outputs": [
    {
     "name": "stdout",
     "output_type": "stream",
     "text": [
      "Friedrice is my favorite dish.\n"
     ]
    }
   ],
   "source": [
    "print(f\"{My_food[1].title()} is my favorite dish.\")"
   ]
  },
  {
   "cell_type": "code",
   "execution_count": 104,
   "id": "1993d8ea",
   "metadata": {},
   "outputs": [],
   "source": [
    "Friends_food = My_food[:]"
   ]
  },
  {
   "cell_type": "code",
   "execution_count": 105,
   "id": "0763b978",
   "metadata": {},
   "outputs": [
    {
     "name": "stdout",
     "output_type": "stream",
     "text": [
      "['pizza', 'friedrice', 'egg', 'chicken']\n",
      "['pizza', 'friedrice', 'egg', 'chicken']\n"
     ]
    }
   ],
   "source": [
    "print(My_food)\n",
    "print(Friends_food)"
   ]
  },
  {
   "cell_type": "code",
   "execution_count": 106,
   "id": "b7f7eba1",
   "metadata": {},
   "outputs": [],
   "source": [
    "My_food.append(\"curd\")\n",
    "Friends_food.append(\"cerals\")"
   ]
  },
  {
   "cell_type": "code",
   "execution_count": 107,
   "id": "181c3073",
   "metadata": {},
   "outputs": [
    {
     "name": "stdout",
     "output_type": "stream",
     "text": [
      "['pizza', 'friedrice', 'egg', 'chicken', 'curd']\n",
      "['pizza', 'friedrice', 'egg', 'chicken', 'cerals']\n"
     ]
    }
   ],
   "source": [
    "print(My_food)\n",
    "print(Friends_food)"
   ]
  },
  {
   "cell_type": "code",
   "execution_count": 108,
   "id": "77deec3e",
   "metadata": {},
   "outputs": [],
   "source": [
    "My_food = Friends_food "
   ]
  },
  {
   "cell_type": "code",
   "execution_count": 109,
   "id": "bfa8e9c2",
   "metadata": {},
   "outputs": [],
   "source": [
    "My_food.append(\"curd\")\n",
    "Friends_food.append(\"cerals\")"
   ]
  },
  {
   "cell_type": "code",
   "execution_count": 110,
   "id": "be65aaaa",
   "metadata": {},
   "outputs": [
    {
     "name": "stdout",
     "output_type": "stream",
     "text": [
      "['pizza', 'friedrice', 'egg', 'chicken', 'cerals', 'curd', 'cerals']\n",
      "['pizza', 'friedrice', 'egg', 'chicken', 'cerals', 'curd', 'cerals']\n"
     ]
    }
   ],
   "source": [
    "print(My_food)\n",
    "print(Friends_food)"
   ]
  },
  {
   "cell_type": "code",
   "execution_count": 111,
   "id": "7b4d94ba",
   "metadata": {},
   "outputs": [],
   "source": [
    "age_0 = 27\n",
    "age_1 = 21"
   ]
  },
  {
   "cell_type": "code",
   "execution_count": 115,
   "id": "1bc768e9",
   "metadata": {},
   "outputs": [
    {
     "data": {
      "text/plain": [
       "True"
      ]
     },
     "execution_count": 115,
     "metadata": {},
     "output_type": "execute_result"
    }
   ],
   "source": [
    "age_0 >= 22 and age_1 >= 11"
   ]
  },
  {
   "cell_type": "code",
   "execution_count": 116,
   "id": "cd4f077f",
   "metadata": {},
   "outputs": [
    {
     "name": "stdout",
     "output_type": "stream",
     "text": [
      "['pizza', 'friedrice', 'egg', 'chicken', 'cerals', 'curd', 'cerals']\n"
     ]
    }
   ],
   "source": [
    "print(My_food)"
   ]
  },
  {
   "cell_type": "code",
   "execution_count": 121,
   "id": "7d8c7382",
   "metadata": {},
   "outputs": [
    {
     "name": "stdout",
     "output_type": "stream",
     "text": [
      "Pizza\n",
      "Friedrice\n",
      "egg\n",
      "Chicken\n",
      "Cerals\n",
      "Curd\n",
      "Cerals\n"
     ]
    }
   ],
   "source": [
    "for food in My_food:\n",
    "    if food == \"egg\":\n",
    "        print(food.lower())\n",
    "    else:\n",
    "        print(food.title())"
   ]
  },
  {
   "cell_type": "code",
   "execution_count": 124,
   "id": "c00b49e1",
   "metadata": {},
   "outputs": [],
   "source": [
    "banner_user = [\"andrew\",\"carolina\",\"david\"]\n",
    "user = \"carolina\""
   ]
  },
  {
   "cell_type": "code",
   "execution_count": 131,
   "id": "d0347f01",
   "metadata": {},
   "outputs": [],
   "source": [
    "if user not in banner_user:\n",
    "    print(f\"{user.title()}, is not in the list.\")"
   ]
  },
  {
   "cell_type": "code",
   "execution_count": 132,
   "id": "5595f21b",
   "metadata": {},
   "outputs": [
    {
     "name": "stdout",
     "output_type": "stream",
     "text": [
      "carolina\n"
     ]
    }
   ],
   "source": [
    "print(user)"
   ]
  },
  {
   "cell_type": "code",
   "execution_count": 140,
   "id": "9472dd16",
   "metadata": {},
   "outputs": [
    {
     "ename": "TypeError",
     "evalue": "'str' object is not callable",
     "output_type": "error",
     "traceback": [
      "\u001b[0;31m---------------------------------------------------------------------------\u001b[0m",
      "\u001b[0;31mTypeError\u001b[0m                                 Traceback (most recent call last)",
      "Input \u001b[0;32mIn [140]\u001b[0m, in \u001b[0;36m<cell line: 2>\u001b[0;34m()\u001b[0m\n\u001b[1;32m      1\u001b[0m banner_user \u001b[38;5;241m=\u001b[39m [\u001b[38;5;124m\"\u001b[39m\u001b[38;5;124mandrew\u001b[39m\u001b[38;5;124m\"\u001b[39m,\u001b[38;5;124m\"\u001b[39m\u001b[38;5;124mcarolina\u001b[39m\u001b[38;5;124m\"\u001b[39m,\u001b[38;5;124m\"\u001b[39m\u001b[38;5;124mdavid\u001b[39m\u001b[38;5;124m\"\u001b[39m]\n\u001b[0;32m----> 2\u001b[0m users \u001b[38;5;241m=\u001b[39m \u001b[38;5;28;43minput\u001b[39;49m\u001b[43m(\u001b[49m\u001b[43m)\u001b[49m\n\u001b[1;32m      4\u001b[0m \u001b[38;5;28;01mif\u001b[39;00m user \u001b[38;5;129;01mnot\u001b[39;00m \u001b[38;5;129;01min\u001b[39;00m banner_user:\n\u001b[1;32m      5\u001b[0m     \u001b[38;5;28mprint\u001b[39m(\u001b[38;5;124mf\u001b[39m\u001b[38;5;124m\"\u001b[39m\u001b[38;5;132;01m{\u001b[39;00muser\u001b[38;5;241m.\u001b[39mtitle()\u001b[38;5;132;01m}\u001b[39;00m\u001b[38;5;124m, is not in the list.\u001b[39m\u001b[38;5;124m\"\u001b[39m)\n",
      "\u001b[0;31mTypeError\u001b[0m: 'str' object is not callable"
     ]
    }
   ],
   "source": [
    "banner_user = [\"andrew\",\"carolina\",\"david\"]\n",
    "users = input()\n",
    "\n",
    "if user not in banner_user:\n",
    "    print(f\"{user.title()}, is not in the list.\")"
   ]
  },
  {
   "cell_type": "code",
   "execution_count": 145,
   "id": "7715c90c",
   "metadata": {},
   "outputs": [
    {
     "name": "stdout",
     "output_type": "stream",
     "text": [
      "26, is good time for marriage\n"
     ]
    }
   ],
   "source": [
    "age = 26\n",
    "if age >= 26:\n",
    "    print(f\"{age}, is good time for marriage\")\n",
    "else:\n",
    "    print(f\"{age}, is not a good time for marriage\")"
   ]
  },
  {
   "cell_type": "code",
   "execution_count": 148,
   "id": "4b27dcb6",
   "metadata": {},
   "outputs": [
    {
     "name": "stdout",
     "output_type": "stream",
     "text": [
      "26 is eligible for vote\n"
     ]
    }
   ],
   "source": [
    "age_1 = 26\n",
    "if age_1 >= 25:\n",
    "    print(f\"{age_1} is eligible for vote\")"
   ]
  },
  {
   "cell_type": "code",
   "execution_count": 156,
   "id": "aab15913",
   "metadata": {},
   "outputs": [
    {
     "ename": "TypeError",
     "evalue": "'str' object is not callable",
     "output_type": "error",
     "traceback": [
      "\u001b[0;31m---------------------------------------------------------------------------\u001b[0m",
      "\u001b[0;31mTypeError\u001b[0m                                 Traceback (most recent call last)",
      "Input \u001b[0;32mIn [156]\u001b[0m, in \u001b[0;36m<cell line: 1>\u001b[0;34m()\u001b[0m\n\u001b[0;32m----> 1\u001b[0m val \u001b[38;5;241m=\u001b[39m \u001b[38;5;28mint\u001b[39m(\u001b[38;5;28;43minput\u001b[39;49m\u001b[43m(\u001b[49m\u001b[38;5;124;43m\"\u001b[39;49m\u001b[38;5;124;43mEnter the value:\u001b[39;49m\u001b[38;5;124;43m\"\u001b[39;49m\u001b[43m)\u001b[49m)\n",
      "\u001b[0;31mTypeError\u001b[0m: 'str' object is not callable"
     ]
    }
   ],
   "source": [
    "val = int(input(\"Enter the value:\"))"
   ]
  },
  {
   "cell_type": "code",
   "execution_count": 158,
   "id": "448747aa",
   "metadata": {},
   "outputs": [
    {
     "ename": "TypeError",
     "evalue": "'str' object is not callable",
     "output_type": "error",
     "traceback": [
      "\u001b[0;31m---------------------------------------------------------------------------\u001b[0m",
      "\u001b[0;31mTypeError\u001b[0m                                 Traceback (most recent call last)",
      "Input \u001b[0;32mIn [158]\u001b[0m, in \u001b[0;36m<cell line: 1>\u001b[0;34m()\u001b[0m\n\u001b[0;32m----> 1\u001b[0m deg_fahrenheit \u001b[38;5;241m=\u001b[39m \u001b[38;5;28mint\u001b[39m(\u001b[38;5;28;43minput\u001b[39;49m\u001b[43m(\u001b[49m\u001b[38;5;124;43m\"\u001b[39;49m\u001b[38;5;124;43mWhat is the temperature in degrees Fahrenheit?\u001b[39;49m\u001b[38;5;124;43m\"\u001b[39;49m\u001b[43m)\u001b[49m)\n",
      "\u001b[0;31mTypeError\u001b[0m: 'str' object is not callable"
     ]
    }
   ],
   "source": [
    "deg_fahrenheit = int(input(\"What is the temperature in degrees Fahrenheit?\"))"
   ]
  },
  {
   "cell_type": "code",
   "execution_count": 7,
   "id": "08cabcc3",
   "metadata": {},
   "outputs": [],
   "source": [
    "alien_0 = {\"color\":\"green\", \"point\": 5}"
   ]
  },
  {
   "cell_type": "code",
   "execution_count": 8,
   "id": "2026a0fd",
   "metadata": {},
   "outputs": [
    {
     "data": {
      "text/plain": [
       "dict"
      ]
     },
     "execution_count": 8,
     "metadata": {},
     "output_type": "execute_result"
    }
   ],
   "source": [
    "type(alien_0)"
   ]
  },
  {
   "cell_type": "code",
   "execution_count": 9,
   "id": "3e205997",
   "metadata": {},
   "outputs": [
    {
     "name": "stdout",
     "output_type": "stream",
     "text": [
      "green\n"
     ]
    }
   ],
   "source": [
    "print(alien_0[\"color\"])"
   ]
  },
  {
   "cell_type": "code",
   "execution_count": 166,
   "id": "e7077809",
   "metadata": {},
   "outputs": [
    {
     "ename": "AttributeError",
     "evalue": "'dict' object has no attribute 'append'",
     "output_type": "error",
     "traceback": [
      "\u001b[0;31m---------------------------------------------------------------------------\u001b[0m",
      "\u001b[0;31mAttributeError\u001b[0m                            Traceback (most recent call last)",
      "Input \u001b[0;32mIn [166]\u001b[0m, in \u001b[0;36m<cell line: 1>\u001b[0;34m()\u001b[0m\n\u001b[1;32m      1\u001b[0m \u001b[38;5;28;01mfor\u001b[39;00m alien_color,alien_point \u001b[38;5;129;01min\u001b[39;00m alien_0\u001b[38;5;241m.\u001b[39mitems():\n\u001b[0;32m----> 2\u001b[0m     \u001b[43malien_0\u001b[49m\u001b[38;5;241;43m.\u001b[39;49m\u001b[43mappend\u001b[49m(alien_color)\n\u001b[1;32m      3\u001b[0m     alien_0\u001b[38;5;241m.\u001b[39mappend(alien_point)\n\u001b[1;32m      4\u001b[0m     \u001b[38;5;28mprint\u001b[39m(\u001b[38;5;124mf\u001b[39m\u001b[38;5;124m\"\u001b[39m\u001b[38;5;124mSpecifications of alien color: \u001b[39m\u001b[38;5;132;01m{\u001b[39;00malien_1\u001b[38;5;132;01m}\u001b[39;00m\u001b[38;5;124m\"\u001b[39m)\n",
      "\u001b[0;31mAttributeError\u001b[0m: 'dict' object has no attribute 'append'"
     ]
    }
   ],
   "source": [
    "for alien_color,alien_point in alien_0.items():\n",
    "    alien_0.append(alien_color)\n",
    "    alien_0.append(alien_point)\n",
    "    print(f\"Specifications of alien color: {alien_1}\")\n",
    "    print(f\"Specifications of alien color: {alien_2}\")"
   ]
  },
  {
   "cell_type": "code",
   "execution_count": 10,
   "id": "f33d7942",
   "metadata": {},
   "outputs": [],
   "source": [
    "alien_0[\"color\"] = \"yellow\""
   ]
  },
  {
   "cell_type": "code",
   "execution_count": 11,
   "id": "dc89b4bd",
   "metadata": {},
   "outputs": [
    {
     "data": {
      "text/plain": [
       "{'color': 'yellow', 'point': 5}"
      ]
     },
     "execution_count": 11,
     "metadata": {},
     "output_type": "execute_result"
    }
   ],
   "source": [
    "alien_0"
   ]
  },
  {
   "cell_type": "code",
   "execution_count": 170,
   "id": "dd9ec1c7",
   "metadata": {},
   "outputs": [],
   "source": [
    "del alien_0[\"color\"]"
   ]
  },
  {
   "cell_type": "code",
   "execution_count": 171,
   "id": "dde268c4",
   "metadata": {},
   "outputs": [
    {
     "data": {
      "text/plain": [
       "{'point': 5}"
      ]
     },
     "execution_count": 171,
     "metadata": {},
     "output_type": "execute_result"
    }
   ],
   "source": [
    "alien_0"
   ]
  },
  {
   "cell_type": "code",
   "execution_count": 12,
   "id": "6fc3c067",
   "metadata": {},
   "outputs": [],
   "source": [
    "alien_0[\"color\"] = [\"red\",\"black\",\"green\"]"
   ]
  },
  {
   "cell_type": "code",
   "execution_count": 13,
   "id": "d4a4eb80",
   "metadata": {},
   "outputs": [
    {
     "data": {
      "text/plain": [
       "{'color': ['red', 'black', 'green'], 'point': 5}"
      ]
     },
     "execution_count": 13,
     "metadata": {},
     "output_type": "execute_result"
    }
   ],
   "source": [
    "alien_0"
   ]
  },
  {
   "cell_type": "code",
   "execution_count": 6,
   "id": "532dd513",
   "metadata": {},
   "outputs": [
    {
     "name": "stdout",
     "output_type": "stream",
     "text": [
      "{'color': 'pink', 'point': 5}\n"
     ]
    }
   ],
   "source": [
    "print(alien_0)"
   ]
  },
  {
   "cell_type": "code",
   "execution_count": 14,
   "id": "175b0f6d",
   "metadata": {},
   "outputs": [
    {
     "name": "stdout",
     "output_type": "stream",
     "text": [
      "<class 'dict'> {'color': 'green', 'dimension': 736, 'Engine_type': 4, 'age': 2}\n"
     ]
    }
   ],
   "source": [
    "cars = {}\n",
    "\n",
    "cars[\"color\"] = \"green\"\n",
    "cars[\"dimension\"] = 32*23\n",
    "cars[\"Engine_type\"] = 4\n",
    "cars[\"age\"] = 2\n",
    "\n",
    "print(type(cars), cars)"
   ]
  },
  {
   "cell_type": "code",
   "execution_count": 9,
   "id": "4718b95a",
   "metadata": {},
   "outputs": [],
   "source": [
    "alien_0 = {\"x_position\": 0,\"y_position\": 25,\"speed\" : \"fast\"}"
   ]
  },
  {
   "cell_type": "code",
   "execution_count": 7,
   "id": "44540245",
   "metadata": {},
   "outputs": [
    {
     "name": "stdout",
     "output_type": "stream",
     "text": [
      "<class 'dict'> {'x_position': 0, 'y_position': 25, 'speed': 'medium'}\n"
     ]
    }
   ],
   "source": [
    "print(type(alien_0),alien_0)"
   ]
  },
  {
   "cell_type": "code",
   "execution_count": 10,
   "id": "ed67ebf1",
   "metadata": {},
   "outputs": [
    {
     "name": "stdout",
     "output_type": "stream",
     "text": [
      "New Position: 3\n"
     ]
    }
   ],
   "source": [
    "if alien_0[\"speed\"] == \"slow\":\n",
    "    x_increment = 1\n",
    "elif alien_0[\"speed\"] == \"medium\":\n",
    "    x_increment = 2\n",
    "else:\n",
    "    x_increment = 3\n",
    "\n",
    "alien_0['x_position'] = alien_0['x_position'] + x_increment\n",
    "\n",
    "print(f\"New Position: {alien_0['x_position']}\")"
   ]
  },
  {
   "cell_type": "code",
   "execution_count": 23,
   "id": "85d4e562",
   "metadata": {},
   "outputs": [],
   "source": [
    "favorite_lan = {\n",
    "    'jen': 'python',\n",
    "    'sarah': 'c',\n",
    "    'edward': 'ruby',\n",
    "    'phil': 'python',\n",
    "}"
   ]
  },
  {
   "cell_type": "code",
   "execution_count": 13,
   "id": "b82ab44a",
   "metadata": {},
   "outputs": [
    {
     "data": {
      "text/plain": [
       "{'jen': 'python', 'sarah': 'c', 'edward': 'ruby', 'phil': 'python'}"
      ]
     },
     "execution_count": 13,
     "metadata": {},
     "output_type": "execute_result"
    }
   ],
   "source": [
    "favorite_lan"
   ]
  },
  {
   "cell_type": "code",
   "execution_count": 14,
   "id": "8fa2f288",
   "metadata": {},
   "outputs": [],
   "source": [
    "language = favorite_lan['sarah'].title()"
   ]
  },
  {
   "cell_type": "code",
   "execution_count": 16,
   "id": "ce01a75e",
   "metadata": {},
   "outputs": [
    {
     "name": "stdout",
     "output_type": "stream",
     "text": [
      "Sarah favorite language: C\n"
     ]
    }
   ],
   "source": [
    "print(f\"Sarah favorite language: {language}\")"
   ]
  },
  {
   "cell_type": "code",
   "execution_count": 25,
   "id": "a2dd1954",
   "metadata": {},
   "outputs": [
    {
     "name": "stdout",
     "output_type": "stream",
     "text": [
      "\n",
      "Key:jen\n",
      "\n",
      "Values:python\n",
      "\n",
      "Key:sarah\n",
      "\n",
      "Values:c\n",
      "\n",
      "Key:edward\n",
      "\n",
      "Values:ruby\n",
      "\n",
      "Key:phil\n",
      "\n",
      "Values:python\n"
     ]
    }
   ],
   "source": [
    "for Key, Value in favorite_lan.items():\n",
    "    print(f\"\\nKey:{Key}\")\n",
    "    print(f\"\\nValues:{Value}\")"
   ]
  },
  {
   "cell_type": "code",
   "execution_count": 19,
   "id": "9dcc7ea9",
   "metadata": {},
   "outputs": [
    {
     "name": "stdout",
     "output_type": "stream",
     "text": [
      "<class 'tuple'>\n"
     ]
    }
   ],
   "source": [
    "print(type(fav))"
   ]
  },
  {
   "cell_type": "code",
   "execution_count": 26,
   "id": "5376a4d5",
   "metadata": {},
   "outputs": [
    {
     "name": "stdout",
     "output_type": "stream",
     "text": [
      "Jen's favorite language is Python\n",
      "Sarah's favorite language is C\n",
      "Edward's favorite language is Ruby\n",
      "Phil's favorite language is Python\n"
     ]
    }
   ],
   "source": [
    "for name, language in favorite_lan.items():\n",
    "    print(f\"{name.title()}'s favorite language is {language.title()}\")"
   ]
  },
  {
   "cell_type": "code",
   "execution_count": 38,
   "id": "7348bdf3",
   "metadata": {},
   "outputs": [
    {
     "name": "stdout",
     "output_type": "stream",
     "text": [
      "jen\n",
      "sarah\n",
      "edward\n",
      "phil\n"
     ]
    }
   ],
   "source": [
    "for name in favorite_lan.keys():\n",
    "    print(name)"
   ]
  },
  {
   "cell_type": "code",
   "execution_count": 46,
   "id": "8029cc73",
   "metadata": {},
   "outputs": [],
   "source": [
    "favorite_lan = {\n",
    "    'jen': 'python',\n",
    "    'sai': 'c',\n",
    "    'edward': 'ruby',\n",
    "    'pranaya': 'python',\n",
    "}"
   ]
  },
  {
   "cell_type": "code",
   "execution_count": null,
   "id": "86489885",
   "metadata": {},
   "outputs": [],
   "source": []
  },
  {
   "cell_type": "code",
   "execution_count": 48,
   "id": "17df0c4a",
   "metadata": {},
   "outputs": [
    {
     "name": "stdout",
     "output_type": "stream",
     "text": [
      "Hi Jen.\n",
      "Hi Sai.\n",
      "\tSai, I see you love C!\n",
      "Hi Edward.\n",
      "Hi Pranaya.\n",
      "\tPranaya, I see you love Python!\n"
     ]
    }
   ],
   "source": [
    "friends = [\"sai\",\"pranaya\"]\n",
    "for name in favorite_lan.keys():\n",
    "    print(f\"Hi {name.title()}.\")\n",
    "    \n",
    "    if name in friends:\n",
    "        language = favorite_lan[name].title()\n",
    "        print(f\"\\t{name.title()}, I see you love {language}!\")"
   ]
  },
  {
   "cell_type": "code",
   "execution_count": 45,
   "id": "84c54861",
   "metadata": {},
   "outputs": [
    {
     "name": "stdout",
     "output_type": "stream",
     "text": [
      "['sai', 'pranaya']\n"
     ]
    }
   ],
   "source": [
    "print(friends)"
   ]
  },
  {
   "cell_type": "code",
   "execution_count": 49,
   "id": "0953ec68",
   "metadata": {},
   "outputs": [],
   "source": [
    "eficens = {\"data\":[\"adepu\",\"sai\",\"spandy\",\"pranaya\",\"binnuram\"],\n",
    "          \"devOps\":[\"jay\",\"gopi\",\"bhanu\"],\n",
    "          \"java\": [\"shyam\",\"anil\",\"shika\",\"anirudh\"]}"
   ]
  },
  {
   "cell_type": "code",
   "execution_count": 51,
   "id": "4d1006da",
   "metadata": {},
   "outputs": [
    {
     "name": "stdout",
     "output_type": "stream",
     "text": [
      "<class 'dict'> {'data': ['adepu', 'sai', 'spandy', 'pranaya', 'binnuram'], 'devOps': ['jay', 'gopi', 'bhanu'], 'java': ['shyam', 'anil', 'shika', 'anirudh']}\n"
     ]
    }
   ],
   "source": [
    "print(type(eficens),eficens)"
   ]
  },
  {
   "cell_type": "code",
   "execution_count": 52,
   "id": "2323b68c",
   "metadata": {},
   "outputs": [
    {
     "ename": "AttributeError",
     "evalue": "'list' object has no attribute 'title'",
     "output_type": "error",
     "traceback": [
      "\u001b[0;31m---------------------------------------------------------------------------\u001b[0m",
      "\u001b[0;31mAttributeError\u001b[0m                            Traceback (most recent call last)",
      "Input \u001b[0;32mIn [52]\u001b[0m, in \u001b[0;36m<cell line: 1>\u001b[0;34m()\u001b[0m\n\u001b[1;32m      1\u001b[0m \u001b[38;5;28;01mfor\u001b[39;00m tech,student \u001b[38;5;129;01min\u001b[39;00m eficens\u001b[38;5;241m.\u001b[39mitems():\n\u001b[0;32m----> 2\u001b[0m     \u001b[38;5;28mprint\u001b[39m(\u001b[38;5;124mf\u001b[39m\u001b[38;5;124m\"\u001b[39m\u001b[38;5;132;01m{\u001b[39;00mstudent\u001b[38;5;241m.\u001b[39mtitle()\u001b[38;5;132;01m}\u001b[39;00m\u001b[38;5;124m is marketing in \u001b[39m\u001b[38;5;132;01m{\u001b[39;00mtech\u001b[38;5;241m.\u001b[39mtitle()\u001b[38;5;132;01m}\u001b[39;00m\u001b[38;5;124m\"\u001b[39m)\n",
      "\u001b[0;31mAttributeError\u001b[0m: 'list' object has no attribute 'title'"
     ]
    }
   ],
   "source": [
    "for tech,student in eficens.items():\n",
    "    print(f\"{student.title()} is marketing in {tech.title()}\")"
   ]
  },
  {
   "cell_type": "code",
   "execution_count": 11,
   "id": "c046eab4",
   "metadata": {},
   "outputs": [
    {
     "name": "stdout",
     "output_type": "stream",
     "text": [
      "23\n",
      "NotWerid\n",
      "Wired\n",
      "NotWerid\n",
      "Wired\n",
      "NotWerid\n",
      "Wired\n",
      "NotWerid\n",
      "Wired\n",
      "NotWerid\n",
      "Wired\n",
      "NotWerid\n",
      "Wired\n",
      "NotWerid\n",
      "Wired\n",
      "NotWerid\n",
      "Wired\n",
      "NotWerid\n",
      "Wired\n",
      "NotWerid\n",
      "Wired\n",
      "NotWerid\n",
      "Wired\n",
      "NotWerid\n"
     ]
    }
   ],
   "source": [
    "n = int(input())\n",
    "for i in n:\n",
    "    if i%2 == 0:\n",
    "        print(\"NotWerid\")\n",
    "    else:\n",
    "        print(\"Wired\")"
   ]
  },
  {
   "cell_type": "code",
   "execution_count": null,
   "id": "a35d08d1",
   "metadata": {},
   "outputs": [],
   "source": [
    "TypeError: 'int' object is not iterable"
   ]
  },
  {
   "cell_type": "code",
   "execution_count": 15,
   "id": "bf01b52f",
   "metadata": {},
   "outputs": [],
   "source": [
    "eficens = {\"data\":[\"adepu\",\"sai\",\"spandy\",\"pranaya\",\"binnuram\"],\n",
    "          \"devOps\":[\"jay\",\"gopi\",\"bhanu\"],\n",
    "          \"java\": [\"shyam\",\"anil\",\"shika\",\"anirudh\"]}\n",
    "passport = {\"data\":[\"g-2341\",\"g-6754\",\"g-7765\",\"g-2209\",\"g-1769\"],\n",
    "          \"devOps\":[\"g-1111\",\"g-2222\",\"g-3333\"],\n",
    "          \"java\": [\"g-4444\",\"g-5555\",\"g-6666\",\"g-7777\"]}\n",
    "phone = {\"data\":[9326,9765,9087,9231],\n",
    "          \"devOps\":[4691,4621,4378],\n",
    "          \"java\": [3678,3697,3651,3600]}"
   ]
  },
  {
   "cell_type": "code",
   "execution_count": 18,
   "id": "15a91ab2",
   "metadata": {},
   "outputs": [],
   "source": [
    "tech = [eficens,passport,phone]"
   ]
  },
  {
   "cell_type": "code",
   "execution_count": 20,
   "id": "10da40c4",
   "metadata": {},
   "outputs": [
    {
     "name": "stdout",
     "output_type": "stream",
     "text": [
      "<class 'dict'> {'data': ['adepu', 'sai', 'spandy', 'pranaya', 'binnuram'], 'devOps': ['jay', 'gopi', 'bhanu'], 'java': ['shyam', 'anil', 'shika', 'anirudh']}\n",
      "<class 'dict'> {'data': ['g-2341', 'g-6754', 'g-7765', 'g-2209', 'g-1769'], 'devOps': ['g-1111', 'g-2222', 'g-3333'], 'java': ['g-4444', 'g-5555', 'g-6666', 'g-7777']}\n",
      "<class 'dict'> {'data': [9326, 9765, 9087, 9231], 'devOps': [4691, 4621, 4378], 'java': [3678, 3697, 3651, 3600]}\n"
     ]
    }
   ],
   "source": [
    "for i in tech:\n",
    "    print(type(i),i)"
   ]
  },
  {
   "cell_type": "code",
   "execution_count": 24,
   "id": "86f0736b",
   "metadata": {},
   "outputs": [
    {
     "name": "stdout",
     "output_type": "stream",
     "text": [
      "{'color': 'green', 'points': 5, 'speed': 'slow'}\n",
      "{'color': 'green', 'points': 5, 'speed': 'slow'}\n",
      "{'color': 'green', 'points': 5, 'speed': 'slow'}\n",
      "{'color': 'green', 'points': 5, 'speed': 'slow'}\n",
      "{'color': 'green', 'points': 5, 'speed': 'slow'}\n",
      "{'color': 'green', 'points': 5, 'speed': 'slow'}\n",
      "{'color': 'green', 'points': 5, 'speed': 'slow'}\n",
      "{'color': 'green', 'points': 5, 'speed': 'slow'}\n",
      "{'color': 'green', 'points': 5, 'speed': 'slow'}\n",
      "{'color': 'green', 'points': 5, 'speed': 'slow'}\n",
      "{'color': 'green', 'points': 5, 'speed': 'slow'}\n",
      "{'color': 'green', 'points': 5, 'speed': 'slow'}\n",
      "{'color': 'green', 'points': 5, 'speed': 'slow'}\n",
      "{'color': 'green', 'points': 5, 'speed': 'slow'}\n",
      "{'color': 'green', 'points': 5, 'speed': 'slow'}\n",
      "{'color': 'green', 'points': 5, 'speed': 'slow'}\n",
      "{'color': 'green', 'points': 5, 'speed': 'slow'}\n",
      "{'color': 'green', 'points': 5, 'speed': 'slow'}\n",
      "{'color': 'green', 'points': 5, 'speed': 'slow'}\n",
      "{'color': 'green', 'points': 5, 'speed': 'slow'}\n",
      "{'color': 'green', 'points': 5, 'speed': 'slow'}\n",
      "{'color': 'green', 'points': 5, 'speed': 'slow'}\n",
      "{'color': 'green', 'points': 5, 'speed': 'slow'}\n",
      "{'color': 'green', 'points': 5, 'speed': 'slow'}\n",
      "{'color': 'green', 'points': 5, 'speed': 'slow'}\n",
      "....\n"
     ]
    }
   ],
   "source": [
    "technology = []\n",
    "for tech_no in range(25):\n",
    "    new_tech = {'color':'green','points':5, 'speed': 'slow'}\n",
    "    technology.append(new_tech)\n",
    "for tech in technology[:]:\n",
    "    print(tech)\n",
    "print(\"....\")"
   ]
  },
  {
   "cell_type": "code",
   "execution_count": 30,
   "id": "2aa2b40c",
   "metadata": {},
   "outputs": [
    {
     "name": "stdout",
     "output_type": "stream",
     "text": [
      "{'color': 'green', 'points': 5, 'speed': 'slow'}\n",
      "{'color': 'green', 'points': 5, 'speed': 'slow'}\n",
      "{'color': 'green', 'points': 5, 'speed': 'slow'}\n",
      "...\n"
     ]
    }
   ],
   "source": [
    "aliens = []\n",
    "for alien_num in range(30):\n",
    "    new_alien = {\"color\":\"green\",\"points\":5, \"speed\":\"slow\"}\n",
    "    aliens.append(new_alien)\n",
    "for alien in aliens[:3]:\n",
    "    print(alien)\n",
    "print(\"...\")"
   ]
  },
  {
   "cell_type": "code",
   "execution_count": 35,
   "id": "5120f690",
   "metadata": {},
   "outputs": [
    {
     "name": "stdout",
     "output_type": "stream",
     "text": [
      "{'color': 'green', 'points': 5, 'speed': 'slow'}\n"
     ]
    }
   ],
   "source": [
    "print(alien)"
   ]
  },
  {
   "cell_type": "code",
   "execution_count": 41,
   "id": "de8a62b8",
   "metadata": {},
   "outputs": [
    {
     "name": "stdout",
     "output_type": "stream",
     "text": [
      "[{'color': 'green', 'points': 5, 'speed': 'slow'}, {'color': 'green', 'points': 5, 'speed': 'slow'}, {'color': 'green', 'points': 5, 'speed': 'slow'}, {'color': 'green', 'points': 5, 'speed': 'slow'}, {'color': 'green', 'points': 5, 'speed': 'slow'}, {'color': 'green', 'points': 5, 'speed': 'slow'}, {'color': 'green', 'points': 5, 'speed': 'slow'}, {'color': 'green', 'points': 5, 'speed': 'slow'}, {'color': 'green', 'points': 5, 'speed': 'slow'}, {'color': 'green', 'points': 5, 'speed': 'slow'}, {'color': 'green', 'points': 5, 'speed': 'slow'}, {'color': 'green', 'points': 5, 'speed': 'slow'}, {'color': 'green', 'points': 5, 'speed': 'slow'}, {'color': 'green', 'points': 5, 'speed': 'slow'}, {'color': 'green', 'points': 5, 'speed': 'slow'}, {'color': 'green', 'points': 5, 'speed': 'slow'}, {'color': 'green', 'points': 5, 'speed': 'slow'}, {'color': 'green', 'points': 5, 'speed': 'slow'}, {'color': 'green', 'points': 5, 'speed': 'slow'}, {'color': 'green', 'points': 5, 'speed': 'slow'}, {'color': 'green', 'points': 5, 'speed': 'slow'}, {'color': 'green', 'points': 5, 'speed': 'slow'}, {'color': 'green', 'points': 5, 'speed': 'slow'}, {'color': 'green', 'points': 5, 'speed': 'slow'}, {'color': 'green', 'points': 5, 'speed': 'slow'}, {'color': 'green', 'points': 5, 'speed': 'slow'}, {'color': 'green', 'points': 5, 'speed': 'slow'}, {'color': 'green', 'points': 5, 'speed': 'slow'}, {'color': 'green', 'points': 5, 'speed': 'slow'}, {'color': 'green', 'points': 5, 'speed': 'slow'}]\n"
     ]
    }
   ],
   "source": [
    "print(aliens)"
   ]
  },
  {
   "cell_type": "code",
   "execution_count": 52,
   "id": "3c948000",
   "metadata": {},
   "outputs": [
    {
     "name": "stdout",
     "output_type": "stream",
     "text": [
      "{'color': 'red', 'points': 15, 'speed': 'fast'}\n",
      "{'color': 'red', 'points': 15, 'speed': 'fast'}\n"
     ]
    }
   ],
   "source": [
    "for i in aliens[0:3]:\n",
    "    if i[\"color\"] == \"green\":\n",
    "        i[\"color\"] = \"yellow\"\n",
    "        i[\"points\"] = 10\n",
    "        i[\"speed\"] = \"medium\"\n",
    "    elif i[\"color\"] == \"yellow\":\n",
    "        i[\"color\"] = \"red\"\n",
    "        i[\"points\"] = 15\n",
    "        i[\"speed\"] = \"fast\"\n",
    "for x in aliens[:2]:\n",
    "    print(x)"
   ]
  },
  {
   "cell_type": "code",
   "execution_count": 1,
   "id": "4a73c72f",
   "metadata": {},
   "outputs": [
    {
     "name": "stdout",
     "output_type": "stream",
     "text": [
      "Tell me something, and I will repeat it back to you:Hello Python!\n",
      "Hello Python!\n"
     ]
    }
   ],
   "source": [
    "massage = input(\"Tell me something, and I will repeat it back to you:\")\n",
    "print(massage)"
   ]
  },
  {
   "cell_type": "code",
   "execution_count": 7,
   "id": "b4cdc5d2",
   "metadata": {},
   "outputs": [
    {
     "name": "stdout",
     "output_type": "stream",
     "text": [
      "Please enter the name: sai\n",
      "My name is Sai!\n"
     ]
    }
   ],
   "source": [
    "name = input(\"Please enter the name: \")\n",
    "print(f\"My name is {name.title()}!\")"
   ]
  },
  {
   "cell_type": "code",
   "execution_count": 2,
   "id": "347a2511",
   "metadata": {},
   "outputs": [
    {
     "name": "stdout",
     "output_type": "stream",
     "text": [
      "If you tell us who are you are, we can personalize the message you see.\n",
      "What is your name? Sai\n",
      "\n",
      "Hello, Sai!\n"
     ]
    }
   ],
   "source": [
    "promt = \"If you tell us who are you are, we can personalize the message you see.\"\n",
    "promt += \"\\nWhat is your name? \"\n",
    "\n",
    "name = input(promt)\n",
    "print(f\"\\nHello, {name}!\")"
   ]
  },
  {
   "cell_type": "code",
   "execution_count": 3,
   "id": "e928f2bb",
   "metadata": {},
   "outputs": [
    {
     "name": "stdout",
     "output_type": "stream",
     "text": [
      "How old are you?21\n"
     ]
    }
   ],
   "source": [
    "age = input(\"How old are you?\")"
   ]
  },
  {
   "cell_type": "code",
   "execution_count": 4,
   "id": "bf993ab9",
   "metadata": {},
   "outputs": [
    {
     "name": "stdout",
     "output_type": "stream",
     "text": [
      "21\n"
     ]
    }
   ],
   "source": [
    "print(age)"
   ]
  },
  {
   "cell_type": "code",
   "execution_count": 5,
   "id": "b40b38fb",
   "metadata": {},
   "outputs": [
    {
     "data": {
      "text/plain": [
       "str"
      ]
     },
     "execution_count": 5,
     "metadata": {},
     "output_type": "execute_result"
    }
   ],
   "source": [
    "type(age)"
   ]
  },
  {
   "cell_type": "code",
   "execution_count": 6,
   "id": "48a7dbf6",
   "metadata": {},
   "outputs": [
    {
     "ename": "TypeError",
     "evalue": "'>=' not supported between instances of 'str' and 'int'",
     "output_type": "error",
     "traceback": [
      "\u001b[0;31m---------------------------------------------------------------------------\u001b[0m",
      "\u001b[0;31mTypeError\u001b[0m                                 Traceback (most recent call last)",
      "Input \u001b[0;32mIn [6]\u001b[0m, in \u001b[0;36m<cell line: 1>\u001b[0;34m()\u001b[0m\n\u001b[0;32m----> 1\u001b[0m \u001b[43mage\u001b[49m\u001b[43m \u001b[49m\u001b[38;5;241;43m>\u001b[39;49m\u001b[38;5;241;43m=\u001b[39;49m\u001b[43m \u001b[49m\u001b[38;5;241;43m21\u001b[39;49m\n",
      "\u001b[0;31mTypeError\u001b[0m: '>=' not supported between instances of 'str' and 'int'"
     ]
    }
   ],
   "source": [
    "age >= 21"
   ]
  },
  {
   "cell_type": "code",
   "execution_count": 7,
   "id": "96115edc",
   "metadata": {},
   "outputs": [
    {
     "name": "stdout",
     "output_type": "stream",
     "text": [
      "How old r u ? 21\n"
     ]
    }
   ],
   "source": [
    "age_1 = int(input(\"How old r u ? \"))"
   ]
  },
  {
   "cell_type": "code",
   "execution_count": 8,
   "id": "3b3362ca",
   "metadata": {},
   "outputs": [
    {
     "name": "stdout",
     "output_type": "stream",
     "text": [
      "21\n"
     ]
    }
   ],
   "source": [
    "print(age_1)"
   ]
  },
  {
   "cell_type": "code",
   "execution_count": 9,
   "id": "ecdd3260",
   "metadata": {},
   "outputs": [
    {
     "data": {
      "text/plain": [
       "int"
      ]
     },
     "execution_count": 9,
     "metadata": {},
     "output_type": "execute_result"
    }
   ],
   "source": [
    "type(age_1)"
   ]
  },
  {
   "cell_type": "code",
   "execution_count": 13,
   "id": "e5650e73",
   "metadata": {},
   "outputs": [
    {
     "data": {
      "text/plain": [
       "True"
      ]
     },
     "execution_count": 13,
     "metadata": {},
     "output_type": "execute_result"
    }
   ],
   "source": [
    "age_1 >= 20"
   ]
  },
  {
   "cell_type": "code",
   "execution_count": 12,
   "id": "36431ab3",
   "metadata": {},
   "outputs": [
    {
     "data": {
      "text/plain": [
       "True"
      ]
     },
     "execution_count": 12,
     "metadata": {},
     "output_type": "execute_result"
    }
   ],
   "source": [
    "age_1 > 20"
   ]
  },
  {
   "cell_type": "code",
   "execution_count": 15,
   "id": "146eaa30",
   "metadata": {},
   "outputs": [
    {
     "name": "stdout",
     "output_type": "stream",
     "text": [
      "How tall are you, in inches? 60\n",
      "\n",
      "You're tall enough to ride!\n"
     ]
    }
   ],
   "source": [
    "height = input(\"How tall are you, in inches? \")\n",
    "height = int(height)\n",
    "\n",
    "if height >= 48:\n",
    "    print(f\"\\nYou're tall enough to ride!\")\n",
    "else:\n",
    "    print(\"\\nYou'll be able to ride when you're a little older.\")"
   ]
  },
  {
   "cell_type": "code",
   "execution_count": 16,
   "id": "f2396c14",
   "metadata": {},
   "outputs": [
    {
     "data": {
      "text/plain": [
       "0"
      ]
     },
     "execution_count": 16,
     "metadata": {},
     "output_type": "execute_result"
    }
   ],
   "source": [
    "4 % 2"
   ]
  },
  {
   "cell_type": "code",
   "execution_count": 17,
   "id": "8a002bc5",
   "metadata": {},
   "outputs": [
    {
     "data": {
      "text/plain": [
       "0"
      ]
     },
     "execution_count": 17,
     "metadata": {},
     "output_type": "execute_result"
    }
   ],
   "source": [
    "3 % 1"
   ]
  },
  {
   "cell_type": "code",
   "execution_count": 18,
   "id": "b6545444",
   "metadata": {},
   "outputs": [
    {
     "data": {
      "text/plain": [
       "1"
      ]
     },
     "execution_count": 18,
     "metadata": {},
     "output_type": "execute_result"
    }
   ],
   "source": [
    "1 % 3"
   ]
  },
  {
   "cell_type": "code",
   "execution_count": 19,
   "id": "16a63969",
   "metadata": {},
   "outputs": [
    {
     "data": {
      "text/plain": [
       "1"
      ]
     },
     "execution_count": 19,
     "metadata": {},
     "output_type": "execute_result"
    }
   ],
   "source": [
    "4 % 3"
   ]
  },
  {
   "cell_type": "code",
   "execution_count": 20,
   "id": "1d921f22",
   "metadata": {},
   "outputs": [
    {
     "data": {
      "text/plain": [
       "0"
      ]
     },
     "execution_count": 20,
     "metadata": {},
     "output_type": "execute_result"
    }
   ],
   "source": [
    "6 % 2"
   ]
  },
  {
   "cell_type": "code",
   "execution_count": 21,
   "id": "995994e1",
   "metadata": {},
   "outputs": [
    {
     "data": {
      "text/plain": [
       "0"
      ]
     },
     "execution_count": 21,
     "metadata": {},
     "output_type": "execute_result"
    }
   ],
   "source": [
    "6 % 3"
   ]
  },
  {
   "cell_type": "code",
   "execution_count": 23,
   "id": "dfaa27e0",
   "metadata": {},
   "outputs": [
    {
     "name": "stdout",
     "output_type": "stream",
     "text": [
      "Enter a number, I will let you fi it's even or odd: 2\n",
      "\n",
      "The number 2 is even.\n"
     ]
    }
   ],
   "source": [
    "number = input(\"Enter a number, I will let you fi it's even or odd: \")\n",
    "number = int(number)\n",
    "\n",
    "if number % 2 == 0:\n",
    "    print(f\"\\nThe number {number} is even.\")\n",
    "else:\n",
    "    print(f\"\\nThe number {number} is odd.\")"
   ]
  },
  {
   "cell_type": "code",
   "execution_count": 2,
   "id": "6eba0a36",
   "metadata": {},
   "outputs": [
    {
     "name": "stdout",
     "output_type": "stream",
     "text": [
      "1\n",
      "2\n",
      "3\n"
     ]
    }
   ],
   "source": [
    "current_number = 1\n",
    "while current_number <= 3:\n",
    "    print(current_number)\n",
    "    current_number += 1"
   ]
  },
  {
   "cell_type": "code",
   "execution_count": 3,
   "id": "9410d4ad",
   "metadata": {},
   "outputs": [],
   "source": [
    "promt = \"\\nTell me something, and I will repeat it back for you:\"\n",
    "promt = \"\\nEnter 'quit' to end the program. \""
   ]
  },
  {
   "cell_type": "code",
   "execution_count": 5,
   "id": "ac4703eb",
   "metadata": {},
   "outputs": [
    {
     "name": "stdout",
     "output_type": "stream",
     "text": [
      "\n",
      "Enter 'quit' to end the program. Sai\n",
      "Sai\n",
      "\n",
      "Enter 'quit' to end the program. My name is Sai\n",
      "My name is Sai\n",
      "\n",
      "Enter 'quit' to end the program. How r u today\n",
      "How r u today\n",
      "\n",
      "Enter 'quit' to end the program. quit\n",
      "quit\n"
     ]
    }
   ],
   "source": [
    "message = \"\"\n",
    "while message != 'quit':\n",
    "    message = input(promt)\n",
    "    print(message)"
   ]
  },
  {
   "cell_type": "code",
   "execution_count": 6,
   "id": "baafd549",
   "metadata": {},
   "outputs": [
    {
     "name": "stdout",
     "output_type": "stream",
     "text": [
      "quit\n"
     ]
    }
   ],
   "source": [
    "print(message)"
   ]
  },
  {
   "cell_type": "code",
   "execution_count": 7,
   "id": "aa8111cc",
   "metadata": {},
   "outputs": [
    {
     "name": "stdout",
     "output_type": "stream",
     "text": [
      "\n",
      "Tell me something, I will repeat it back to you:\n",
      " Enter 'quit' to end the program. Sai\n",
      "Sai\n",
      "\n",
      "Tell me something, I will repeat it back to you:\n",
      " Enter 'quit' to end the program. My name is Sai\n",
      "My name is Sai\n",
      "\n",
      "Tell me something, I will repeat it back to you:\n",
      " Enter 'quit' to end the program. quit\n"
     ]
    }
   ],
   "source": [
    "promt = \"\\nTell me something, I will repeat it back to you:\"\n",
    "promt += \"\\n Enter 'quit' to end the program. \"\n",
    "\n",
    "message = \"\"\n",
    "while message != 'quit':\n",
    "    message = input(promt)\n",
    "    \n",
    "    if message != 'quit':\n",
    "        print(message)"
   ]
  },
  {
   "cell_type": "code",
   "execution_count": 1,
   "id": "ffcd8d5a",
   "metadata": {},
   "outputs": [
    {
     "name": "stdout",
     "output_type": "stream",
     "text": [
      "\n",
      "Tell me something I will repeat it back to you.\n",
      "Enter 'quit' to end the program. Sai\n",
      "Sai\n",
      "\n",
      "Tell me something I will repeat it back to you.\n",
      "Enter 'quit' to end the program. My Full name Sai Chander Reddy\n",
      "My Full name Sai Chander Reddy\n",
      "\n",
      "Tell me something I will repeat it back to you.\n",
      "Enter 'quit' to end the program. quit\n"
     ]
    }
   ],
   "source": [
    "promt = \"\\nTell me something I will repeat it back to you.\"\n",
    "promt += \"\\nEnter 'quit' to end the program. \"\n",
    "\n",
    "active = True\n",
    "while active:\n",
    "    message = input(promt)\n",
    "    \n",
    "    if message == 'quit':\n",
    "        active = False\n",
    "    else:\n",
    "        print(message)"
   ]
  },
  {
   "cell_type": "code",
   "execution_count": 3,
   "id": "2a62de32",
   "metadata": {},
   "outputs": [
    {
     "name": "stdout",
     "output_type": "stream",
     "text": [
      "1\n",
      "2\n",
      "3\n",
      "4\n",
      "5\n"
     ]
    }
   ],
   "source": [
    "x = 1\n",
    "while x <= 5:\n",
    "    print(x)\n",
    "    x += 1"
   ]
  },
  {
   "cell_type": "code",
   "execution_count": 2,
   "id": "cf4726b4",
   "metadata": {},
   "outputs": [
    {
     "name": "stdout",
     "output_type": "stream",
     "text": [
      "\n",
      " Enter a number from 1 to 10:\n",
      " Enter 'quit' to end the program. 10\n"
     ]
    }
   ],
   "source": [
    "promt = \"\\n Enter a number from 1 to 10:\"\n",
    "promt += \"\\n Enter 'quit' to end the program. \"\n",
    "\n",
    "active = True\n",
    "while active:\n",
    "    x = int(input(promt))\n",
    "    \n",
    "    if x >= 10:\n",
    "        active = False\n",
    "    elif x % 2 == 0:\n",
    "        print(f\"The Number {x} is even\")\n",
    "        x += 1\n",
    "    else:\n",
    "        print(f\"The Number {x} is odd\")"
   ]
  },
  {
   "cell_type": "code",
   "execution_count": 4,
   "id": "6d8ac173",
   "metadata": {},
   "outputs": [
    {
     "name": "stdout",
     "output_type": "stream",
     "text": [
      "\n",
      "(Enter 'quit' when you are finished.)sa\n",
      "I'd love to visit the place soon Sa!\n",
      "\n",
      "(Enter 'quit' when you are finished.)Newyork\n",
      "I'd love to visit the place soon Newyork!\n",
      "\n",
      "(Enter 'quit' when you are finished.)newyork\n",
      "I'd love to visit the place soon Newyork!\n",
      "\n",
      "(Enter 'quit' when you are finished.)quit\n"
     ]
    }
   ],
   "source": [
    "promt = \"\\nPlease enter a place that you visited.\"\n",
    "promt = \"\\n(Enter 'quit' when you are finished.)\"\n",
    "\n",
    "while True:\n",
    "    city = input(promt)\n",
    "    if city == 'quit':\n",
    "        break\n",
    "    else:\n",
    "        print(f\"I'd love to visit the place soon {city.title()}!\")"
   ]
  },
  {
   "cell_type": "code",
   "execution_count": 27,
   "id": "b992d316",
   "metadata": {},
   "outputs": [
    {
     "name": "stdout",
     "output_type": "stream",
     "text": [
      "10\n"
     ]
    }
   ],
   "source": [
    "current_number = 0\n",
    "while current_number < 10:\n",
    "    current_number += 1\n",
    "    if current_number % 2 == 0:\n",
    "        continue\n",
    "print(current_number)"
   ]
  },
  {
   "cell_type": "code",
   "execution_count": 10,
   "id": "142b40c9",
   "metadata": {},
   "outputs": [
    {
     "data": {
      "text/plain": [
       "1"
      ]
     },
     "execution_count": 10,
     "metadata": {},
     "output_type": "execute_result"
    }
   ],
   "source": [
    "1 % 2"
   ]
  },
  {
   "cell_type": "code",
   "execution_count": 19,
   "id": "973d5b65",
   "metadata": {},
   "outputs": [],
   "source": [
    "# Using While loops using list and dictonary."
   ]
  },
  {
   "cell_type": "code",
   "execution_count": 29,
   "id": "c0218b6d",
   "metadata": {},
   "outputs": [
    {
     "name": "stdout",
     "output_type": "stream",
     "text": [
      "Verifying user: Vishwas\n",
      "Verifying user: Pranaya\n",
      "Verifying user: Sai\n",
      "\n",
      "The following users have been confirmed:\n",
      "Vishwas\n",
      "Pranaya\n",
      "Sai\n"
     ]
    }
   ],
   "source": [
    "unconfirmed_users = [\"Sai\",\"Pranaya\",\"Vishwas\"]\n",
    "confirmed_users = []\n",
    "while unconfirmed_users:\n",
    "    current_users = unconfirmed_users.pop()\n",
    "    \n",
    "    print(f\"Verifying user: {current_users.title()}\")\n",
    "    confirmed_users.append(current_users)\n",
    "print(\"\\nThe following users have been confirmed:\")\n",
    "for confirmed_user in confirmed_users:\n",
    "    print(confirmed_user.title())"
   ]
  },
  {
   "cell_type": "code",
   "execution_count": 34,
   "id": "efbe6d40",
   "metadata": {},
   "outputs": [
    {
     "name": "stdout",
     "output_type": "stream",
     "text": [
      "['dogs', 'cats', 'goldfish', 'cats', 'cats', 'rabbit', 'dog', 'cat']\n",
      "['dogs', 'goldfish', 'rabbit', 'dog', 'cat']\n"
     ]
    }
   ],
   "source": [
    "pets = [\"dogs\",\"cats\",\"goldfish\",\"cats\",\"cats\",\"rabbit\",\"dog\",\"cat\"]\n",
    "print(pets)\n",
    "\n",
    "while 'cats' in pets:\n",
    "    pets.remove('cats')\n",
    "print(pets)"
   ]
  },
  {
   "cell_type": "code",
   "execution_count": 35,
   "id": "fa36033f",
   "metadata": {},
   "outputs": [
    {
     "name": "stdout",
     "output_type": "stream",
     "text": [
      "\n",
      "What is your name? Sai\n",
      "Which mountain would you like to climb someday? Rockey Mountain\n",
      "Would you like to let another person respond? (Yes/No) Yes\n",
      "\n",
      "What is your name? \n",
      "Which mountain would you like to climb someday? \n",
      "Would you like to let another person respond? (Yes/No) yes\n",
      "\n",
      "What is your name? Pranaya\n",
      "Which mountain would you like to climb someday? Yellow Stone national park\n",
      "Would you like to let another person respond? (Yes/No) no\n",
      "\n",
      "---poll Results---\n",
      "Sai would like to climb Rockey Mountain.\n",
      " would like to climb .\n",
      "Pranaya would like to climb Yellow Stone national park.\n"
     ]
    }
   ],
   "source": [
    "responses = {}\n",
    "# set a flag to indicate that polling is active.\n",
    "polling_active = True\n",
    "\n",
    "while polling_active:\n",
    "    name = input(\"\\nWhat is your name? \")\n",
    "    response = input(\"Which mountain would you like to climb someday? \")\n",
    "    \n",
    "    responses[name] = response\n",
    "    \n",
    "    repeat = input(\"Would you like to let another person respond? (Yes/No) \")\n",
    "    if repeat == \"no\":\n",
    "        polling_active = False\n",
    "print(\"\\n---poll Results---\")\n",
    "for name, response in responses.items():\n",
    "    print(f\"{name} would like to climb {response}.\")"
   ]
  },
  {
   "cell_type": "code",
   "execution_count": 42,
   "id": "ae5e08cf",
   "metadata": {},
   "outputs": [],
   "source": [
    "def number_is_even_or_odd(limit):\n",
    "    for num in range(1,limit):\n",
    "        if num % 2 == 0:\n",
    "            print(f\"{num} is a even\")\n",
    "        else:\n",
    "            print(f\"{num} is a odd\")"
   ]
  },
  {
   "cell_type": "code",
   "execution_count": 43,
   "id": "06d26667",
   "metadata": {},
   "outputs": [
    {
     "name": "stdout",
     "output_type": "stream",
     "text": [
      "1 is a odd\n",
      "2 is a even\n",
      "3 is a odd\n",
      "4 is a even\n",
      "5 is a odd\n",
      "6 is a even\n",
      "7 is a odd\n",
      "8 is a even\n",
      "9 is a odd\n",
      "10 is a even\n"
     ]
    }
   ],
   "source": [
    "number_is_even_or_odd(11)"
   ]
  },
  {
   "cell_type": "code",
   "execution_count": 44,
   "id": "4d97d412",
   "metadata": {},
   "outputs": [],
   "source": [
    "def great_users():\n",
    "    print(\"Hello Python\")"
   ]
  },
  {
   "cell_type": "code",
   "execution_count": 48,
   "id": "3e27cd72",
   "metadata": {},
   "outputs": [
    {
     "name": "stdout",
     "output_type": "stream",
     "text": [
      "Hello Python\n"
     ]
    }
   ],
   "source": [
    "great_users()"
   ]
  },
  {
   "cell_type": "code",
   "execution_count": 49,
   "id": "57cbd452",
   "metadata": {},
   "outputs": [],
   "source": [
    "def greet_user(name):\n",
    "    print(f\"Hello, {name.title()}!\")"
   ]
  },
  {
   "cell_type": "code",
   "execution_count": 50,
   "id": "5e0c1279",
   "metadata": {},
   "outputs": [
    {
     "name": "stdout",
     "output_type": "stream",
     "text": [
      "Hello, Sai!\n"
     ]
    }
   ],
   "source": [
    "greet_user('Sai')"
   ]
  },
  {
   "cell_type": "code",
   "execution_count": 51,
   "id": "5549b151",
   "metadata": {},
   "outputs": [
    {
     "name": "stdout",
     "output_type": "stream",
     "text": [
      "Hello, Pranaya!\n"
     ]
    }
   ],
   "source": [
    "greet_user(\"Pranaya\")"
   ]
  },
  {
   "cell_type": "code",
   "execution_count": 52,
   "id": "b5de6c4f",
   "metadata": {},
   "outputs": [
    {
     "name": "stdout",
     "output_type": "stream",
     "text": [
      "1 is a odd\n",
      "2 is a even\n",
      "3 is a odd\n",
      "4 is a even\n",
      "5 is a odd\n",
      "6 is a even\n",
      "7 is a odd\n",
      "8 is a even\n",
      "9 is a odd\n",
      "10 is a even\n",
      "11 is a odd\n",
      "12 is a even\n",
      "13 is a odd\n",
      "14 is a even\n",
      "15 is a odd\n",
      "16 is a even\n",
      "17 is a odd\n",
      "18 is a even\n",
      "19 is a odd\n",
      "20 is a even\n",
      "21 is a odd\n",
      "22 is a even\n",
      "23 is a odd\n",
      "24 is a even\n"
     ]
    }
   ],
   "source": [
    "number_is_even_or_odd(25)"
   ]
  },
  {
   "cell_type": "code",
   "execution_count": 55,
   "id": "b4d1f559",
   "metadata": {},
   "outputs": [],
   "source": [
    "def temperature_check(celsius):\n",
    "    fahrenheit = (celsius * 9/5)+32\n",
    "    return fahrenheit"
   ]
  },
  {
   "cell_type": "code",
   "execution_count": 56,
   "id": "7adc3fde",
   "metadata": {},
   "outputs": [
    {
     "data": {
      "text/plain": [
       "50.0"
      ]
     },
     "execution_count": 56,
     "metadata": {},
     "output_type": "execute_result"
    }
   ],
   "source": [
    "temperature_check(10)`"
   ]
  },
  {
   "cell_type": "code",
   "execution_count": 63,
   "id": "04e5a4f8",
   "metadata": {},
   "outputs": [
    {
     "data": {
      "text/plain": [
       "924.0"
      ]
     },
     "execution_count": 63,
     "metadata": {},
     "output_type": "execute_result"
    }
   ],
   "source": [
    "temperature_check(25)*12"
   ]
  },
  {
   "cell_type": "code",
   "execution_count": 65,
   "id": "00f205ce",
   "metadata": {},
   "outputs": [
    {
     "data": {
      "text/plain": [
       "77.0"
      ]
     },
     "execution_count": 65,
     "metadata": {},
     "output_type": "execute_result"
    }
   ],
   "source": [
    "temperature_check(25)"
   ]
  },
  {
   "cell_type": "code",
   "execution_count": 57,
   "id": "c1e5dfb4",
   "metadata": {},
   "outputs": [],
   "source": [
    "#Positional Arguments"
   ]
  },
  {
   "cell_type": "code",
   "execution_count": 59,
   "id": "a200ae6a",
   "metadata": {},
   "outputs": [],
   "source": [
    "def describing_pets(animal_type, pets_name):\n",
    "    \"\"\"Displays information about a pet\"\"\"\n",
    "    print(f\"\\nI have a {animal_type}.\")\n",
    "    print(f\"My {animal_type}'s name is {pets_name.title()}.\")"
   ]
  },
  {
   "cell_type": "code",
   "execution_count": 61,
   "id": "1876e7eb",
   "metadata": {},
   "outputs": [
    {
     "name": "stdout",
     "output_type": "stream",
     "text": [
      "\n",
      "I have a german_shepard.\n",
      "My german_shepard's name is Puppy.\n"
     ]
    }
   ],
   "source": [
    "describing_pets('german_shepard', 'puppy')"
   ]
  },
  {
   "cell_type": "code",
   "execution_count": 62,
   "id": "cfc5a2d8",
   "metadata": {},
   "outputs": [
    {
     "name": "stdout",
     "output_type": "stream",
     "text": [
      "\n",
      "I have a Rotwheeler.\n",
      "My Rotwheeler's name is Ranstand.\n"
     ]
    }
   ],
   "source": [
    "describing_pets('Rotwheeler','Ranstand')"
   ]
  },
  {
   "cell_type": "code",
   "execution_count": 66,
   "id": "96f6dc62",
   "metadata": {},
   "outputs": [
    {
     "data": {
      "text/plain": [
       "924"
      ]
     },
     "execution_count": 66,
     "metadata": {},
     "output_type": "execute_result"
    }
   ],
   "source": [
    "77 * 12"
   ]
  },
  {
   "cell_type": "code",
   "execution_count": 67,
   "id": "84888a75",
   "metadata": {},
   "outputs": [],
   "source": [
    "#Classes"
   ]
  },
  {
   "cell_type": "code",
   "execution_count": 68,
   "id": "53c285ee",
   "metadata": {},
   "outputs": [],
   "source": [
    "class Dog:\n",
    "    def __init__(self,name,age):\n",
    "        self.name = name\n",
    "        self.age = age\n",
    "    def sit(self):\n",
    "        print(f\"{self.name} is now sitting.\")\n",
    "    def roll_over(self):\n",
    "        print(f\"{self.name} rolled over!\")"
   ]
  },
  {
   "cell_type": "code",
   "execution_count": 69,
   "id": "deb1baca",
   "metadata": {},
   "outputs": [],
   "source": [
    "my_dog = Dog('Puppy', 4)"
   ]
  },
  {
   "cell_type": "code",
   "execution_count": 70,
   "id": "f2f74337",
   "metadata": {},
   "outputs": [
    {
     "name": "stdout",
     "output_type": "stream",
     "text": [
      "My dog's name is Puppy.\n",
      "My dog is 4 years old.\n"
     ]
    }
   ],
   "source": [
    "print(f\"My dog's name is {my_dog.name}.\")\n",
    "print(f\"My dog is {my_dog.age} years old.\")"
   ]
  },
  {
   "cell_type": "code",
   "execution_count": 71,
   "id": "fe738463",
   "metadata": {},
   "outputs": [],
   "source": [
    "class Dog:\n",
    "    \"\"\"A Simple attempt. to model a dog\"\"\"\n",
    "    def __init__(self, name, age):\n",
    "        self.name = name\n",
    "        self.age = age\n",
    "    \n",
    "    def sit(self):\n",
    "        \"\"\"Simulates a dog sitting in repsonse to a command\"\"\"\n",
    "        print(f\"{self.name} is now sitting.\")\n",
    "    \n",
    "    def roll_over(self):\n",
    "        \"\"\"Simulates roll over in repsonse to a command\"\"\"\n",
    "        print(f\"{self.name} rolled over.\")"
   ]
  },
  {
   "cell_type": "code",
   "execution_count": 72,
   "id": "4c4887fa",
   "metadata": {},
   "outputs": [],
   "source": [
    "my_dog_1 = Dog(\"Rover\",8)"
   ]
  },
  {
   "cell_type": "code",
   "execution_count": 73,
   "id": "bb523395",
   "metadata": {},
   "outputs": [
    {
     "name": "stdout",
     "output_type": "stream",
     "text": [
      "Rover\n"
     ]
    }
   ],
   "source": [
    "print(my_dog_1.name)"
   ]
  },
  {
   "cell_type": "code",
   "execution_count": 74,
   "id": "7170619b",
   "metadata": {},
   "outputs": [
    {
     "name": "stdout",
     "output_type": "stream",
     "text": [
      "8\n"
     ]
    }
   ],
   "source": [
    "print(my_dog_1.age)"
   ]
  },
  {
   "cell_type": "code",
   "execution_count": null,
   "id": "b740380f",
   "metadata": {},
   "outputs": [],
   "source": [
    "print()"
   ]
  },
  {
   "cell_type": "code",
   "execution_count": 75,
   "id": "be127010",
   "metadata": {},
   "outputs": [
    {
     "data": {
      "text/plain": [
       "'Rover'"
      ]
     },
     "execution_count": 75,
     "metadata": {},
     "output_type": "execute_result"
    }
   ],
   "source": [
    "my_dog_1.name"
   ]
  },
  {
   "cell_type": "code",
   "execution_count": 76,
   "id": "21330978",
   "metadata": {},
   "outputs": [
    {
     "name": "stdout",
     "output_type": "stream",
     "text": [
      "Rover is now sitting.\n",
      "Rover rolled over.\n"
     ]
    }
   ],
   "source": [
    "my_dog_1.sit()\n",
    "my_dog_1.roll_over()"
   ]
  },
  {
   "cell_type": "code",
   "execution_count": null,
   "id": "8467b45c",
   "metadata": {},
   "outputs": [],
   "source": [
    "# Creating multiple instances."
   ]
  },
  {
   "cell_type": "code",
   "execution_count": 77,
   "id": "38664ae1",
   "metadata": {},
   "outputs": [],
   "source": [
    "your_dog = Dog(\"Wily\",5)\n",
    "uncle_dog = Dog(\"Dexter\",7)"
   ]
  },
  {
   "cell_type": "code",
   "execution_count": 78,
   "id": "0fcf7be4",
   "metadata": {},
   "outputs": [
    {
     "data": {
      "text/plain": [
       "'Wily'"
      ]
     },
     "execution_count": 78,
     "metadata": {},
     "output_type": "execute_result"
    }
   ],
   "source": [
    "your_dog.name"
   ]
  },
  {
   "cell_type": "code",
   "execution_count": 79,
   "id": "e2e0caca",
   "metadata": {},
   "outputs": [
    {
     "data": {
      "text/plain": [
       "'Dexter'"
      ]
     },
     "execution_count": 79,
     "metadata": {},
     "output_type": "execute_result"
    }
   ],
   "source": [
    "uncle_dog.name"
   ]
  },
  {
   "cell_type": "code",
   "execution_count": 80,
   "id": "c425bed6",
   "metadata": {},
   "outputs": [],
   "source": [
    "class Restaurant:\n",
    "    \"\"\"A Simple attempt to model a Restaurant\"\"\"\n",
    "    def __init__ (self,restaurant_name, cuisine_type):\n",
    "        self.restaurant_name = restaurant_name\n",
    "        \n",
    "        self.cuisine_type = cuisine_type\n",
    "        \n",
    "    def describe_restaurant(self):\n",
    "        print(f\"{self.restaurant_name} is Indian Restaurant. Which provides all kind of indian food.\")\n",
    "        \n",
    "    def open_restaurant(self):\n",
    "        print(f\"{self.restaurant_name} is opened till Mid_night everyday.\")"
   ]
  },
  {
   "cell_type": "code",
   "execution_count": 81,
   "id": "4b3203cc",
   "metadata": {},
   "outputs": [],
   "source": [
    "name = Restaurant(\"Swadeshi\",\"Indian\")"
   ]
  },
  {
   "cell_type": "code",
   "execution_count": 82,
   "id": "b1eec2c5",
   "metadata": {},
   "outputs": [
    {
     "name": "stdout",
     "output_type": "stream",
     "text": [
      "Swadeshi\n"
     ]
    }
   ],
   "source": [
    "print(name.restaurant_name)"
   ]
  },
  {
   "cell_type": "code",
   "execution_count": 83,
   "id": "8621f23b",
   "metadata": {},
   "outputs": [
    {
     "name": "stdout",
     "output_type": "stream",
     "text": [
      "Indian\n"
     ]
    }
   ],
   "source": [
    "print(name.cuisine_type)"
   ]
  },
  {
   "cell_type": "code",
   "execution_count": 85,
   "id": "ff44a833",
   "metadata": {},
   "outputs": [
    {
     "name": "stdout",
     "output_type": "stream",
     "text": [
      "Swadeshi is Indian Restaurant. Which provides all kind of indian food.\n"
     ]
    }
   ],
   "source": [
    "name.describe_restaurant()"
   ]
  },
  {
   "cell_type": "code",
   "execution_count": 86,
   "id": "7da37a82",
   "metadata": {},
   "outputs": [
    {
     "name": "stdout",
     "output_type": "stream",
     "text": [
      "Swadeshi is opened till Mid_night everyday.\n"
     ]
    }
   ],
   "source": [
    "name.open_restaurant()"
   ]
  },
  {
   "cell_type": "code",
   "execution_count": 87,
   "id": "76fb5e1e",
   "metadata": {},
   "outputs": [],
   "source": [
    "name_1 = Restaurant(\"Hello_India\", \"Indian\")\n",
    "name_2 = Restaurant(\"Hyderabad_House\",\"Indian\")"
   ]
  },
  {
   "cell_type": "code",
   "execution_count": 88,
   "id": "2ac9f7c1",
   "metadata": {},
   "outputs": [
    {
     "name": "stdout",
     "output_type": "stream",
     "text": [
      "Swadeshi is my favorite one\n",
      "Swadeshi is Indian Restaurant. Which provides all kind of indian food.\n",
      "Swadeshi is opened till Mid_night everyday.\n"
     ]
    }
   ],
   "source": [
    "print(f\"{name.restaurant_name} is my favorite one\")\n",
    "name.describe_restaurant()\n",
    "name.open_restaurant()"
   ]
  },
  {
   "cell_type": "code",
   "execution_count": 90,
   "id": "090ef0fa",
   "metadata": {},
   "outputs": [
    {
     "name": "stdout",
     "output_type": "stream",
     "text": [
      "Hello_India is second most favorite.\n",
      "Hello_India is Indian Restaurant. Which provides all kind of indian food.\n",
      "Hello_India is opened till Mid_night everyday.\n"
     ]
    }
   ],
   "source": [
    "print(f\"{name_1.restaurant_name} is second most favorite.\")\n",
    "name_1.describe_restaurant()\n",
    "name_1.open_restaurant()"
   ]
  },
  {
   "cell_type": "code",
   "execution_count": 91,
   "id": "3c7677ef",
   "metadata": {},
   "outputs": [
    {
     "name": "stdout",
     "output_type": "stream",
     "text": [
      "Hyderabad_House this is my last favorite.\n",
      "Hyderabad_House is Indian Restaurant. Which provides all kind of indian food.\n",
      "Hyderabad_House is opened till Mid_night everyday.\n"
     ]
    }
   ],
   "source": [
    "print(f\"{name_2.restaurant_name} this is my last favorite.\")\n",
    "name_2.describe_restaurant()\n",
    "name_2.open_restaurant()"
   ]
  },
  {
   "cell_type": "code",
   "execution_count": 121,
   "id": "93317ddd",
   "metadata": {},
   "outputs": [],
   "source": [
    "class User:\n",
    "    def __init__ (self, first_name, last_name, age, height, weight, color):\n",
    "        self.first_name = first_name\n",
    "        self.last_name = last_name\n",
    "        self.age = age\n",
    "        self.height = height\n",
    "        self.weight = weight\n",
    "        self.color = color\n",
    "        \n",
    "    def describe_user(self):\n",
    "        print(f\"{self.first_name} {self.last_name} is my full name.\")\n",
    "        print(f\"I am {self.age} is old.\")\n",
    "        print(f\"My height in inches {self.height}\")\n",
    "        print(f\"My weight in kgs {self.weight}\")\n",
    "        print(f\"My skin color is {self.color}\")\n",
    "        \n",
    "    def greet_user(self):\n",
    "        print(f\"{self.first_name} {self.last_name} I hope you're doing well today !\")"
   ]
  },
  {
   "cell_type": "code",
   "execution_count": 122,
   "id": "895de153",
   "metadata": {},
   "outputs": [],
   "source": [
    "user_1 = User(\"Sai Chander Reddy\",\"Chada\", 27, \"6 feet\", 75, \"brown\")"
   ]
  },
  {
   "cell_type": "code",
   "execution_count": 123,
   "id": "055f534c",
   "metadata": {},
   "outputs": [
    {
     "data": {
      "text/plain": [
       "'Sai Chander Reddy'"
      ]
     },
     "execution_count": 123,
     "metadata": {},
     "output_type": "execute_result"
    }
   ],
   "source": [
    "user_1.first_name"
   ]
  },
  {
   "cell_type": "code",
   "execution_count": 124,
   "id": "cf405ebf",
   "metadata": {},
   "outputs": [
    {
     "name": "stdout",
     "output_type": "stream",
     "text": [
      "Sai Chander Reddy Chada is my full name.\n",
      "I am 27 is old.\n",
      "My height in inches 6 feet\n",
      "My weight in kgs 75\n",
      "My skin color is brown\n"
     ]
    }
   ],
   "source": [
    "user_1.describe_user()"
   ]
  },
  {
   "cell_type": "code",
   "execution_count": 125,
   "id": "9c54494b",
   "metadata": {},
   "outputs": [
    {
     "name": "stdout",
     "output_type": "stream",
     "text": [
      "Sai Chander Reddy Chada I hope you're doing well today !\n"
     ]
    }
   ],
   "source": [
    "user_1.greet_user()"
   ]
  },
  {
   "cell_type": "code",
   "execution_count": 126,
   "id": "2ac0e5a4",
   "metadata": {},
   "outputs": [],
   "source": [
    "#Modify the attribute"
   ]
  },
  {
   "cell_type": "code",
   "execution_count": 137,
   "id": "fb42a918",
   "metadata": {},
   "outputs": [],
   "source": [
    "class Car:\n",
    "    \"\"\"A simple attempt to represent a car.\"\"\"\n",
    "    def __init__ (self, make, model, year):\n",
    "        self.make = make\n",
    "        self.model = model\n",
    "        self.year = year\n",
    "        self.odometer_reading = 0\n",
    "        \n",
    "    def get_descriptive_name(self):\n",
    "        \"\"\"Return neatly formatted descriptive name\"\"\"\n",
    "        long_name = f\"{self.year} {self.make} {self.model}\"\n",
    "        return long_name.title()\n",
    "    \n",
    "    def read_odometer(self):\n",
    "        \"\"\"Returns over all mileage of the car\"\"\"\n",
    "        print(f\"This car has {self.odometer_reading} miles on it.\")"
   ]
  },
  {
   "cell_type": "code",
   "execution_count": 135,
   "id": "99aadb62",
   "metadata": {},
   "outputs": [
    {
     "name": "stdout",
     "output_type": "stream",
     "text": [
      "2015 Hyundai Sonata\n"
     ]
    }
   ],
   "source": [
    "my_car = Car(\"Hyundai\",\"Sonata\",2015)\n",
    "print(my_car.get_descriptive_name())"
   ]
  },
  {
   "cell_type": "code",
   "execution_count": 136,
   "id": "9980c09a",
   "metadata": {},
   "outputs": [],
   "source": [
    "#Setting a default value for an attribute"
   ]
  },
  {
   "cell_type": "code",
   "execution_count": 138,
   "id": "dbf521bb",
   "metadata": {},
   "outputs": [],
   "source": [
    "class Car:\n",
    "    \"\"\"A simple attempt to represent a car.\"\"\"\n",
    "    def __init__ (self, make, model, year):\n",
    "        self.make = make\n",
    "        self.model = model\n",
    "        self.year = year\n",
    "        self.odometer_reading = 0\n",
    "        \n",
    "    def get_descriptive_name(self):\n",
    "        \"\"\"Return neatly formatted descriptive name\"\"\"\n",
    "        long_name = f\"{self.year} {self.make} {self.model}\"\n",
    "        return long_name.title()\n",
    "    \n",
    "    def read_odometer(self):\n",
    "        \"\"\"Returns over all mileage of the car\"\"\"\n",
    "        print(f\"This car has {self.odometer_reading} miles on it.\")"
   ]
  },
  {
   "cell_type": "code",
   "execution_count": 3,
   "id": "1ddb8c4a",
   "metadata": {},
   "outputs": [
    {
     "name": "stdout",
     "output_type": "stream",
     "text": [
      "2015 Hyundai Sonata\n",
      "This car has 0 miles on it.\n"
     ]
    }
   ],
   "source": [
    "my_car = Car(\"Hyundai\",\"Sonata\",2015)\n",
    "print(my_car.get_descriptive_name())\n",
    "my_car.read_odometer()"
   ]
  },
  {
   "cell_type": "code",
   "execution_count": 142,
   "id": "a576125c",
   "metadata": {},
   "outputs": [],
   "source": [
    "#Modifiying attribute values directly."
   ]
  },
  {
   "cell_type": "code",
   "execution_count": 143,
   "id": "431754f6",
   "metadata": {},
   "outputs": [
    {
     "name": "stdout",
     "output_type": "stream",
     "text": [
      "This car has 23 miles on it.\n"
     ]
    }
   ],
   "source": [
    "my_car.odometer_reading = 23\n",
    "my_car.read_odometer()"
   ]
  },
  {
   "cell_type": "code",
   "execution_count": 144,
   "id": "ad091248",
   "metadata": {},
   "outputs": [],
   "source": [
    "#Modifying an attributes value through the method."
   ]
  },
  {
   "cell_type": "code",
   "execution_count": 18,
   "id": "57c46304",
   "metadata": {},
   "outputs": [],
   "source": [
    "class Car:\n",
    "    \"\"\"A simple attempt to represent a car.\"\"\"\n",
    "    def __init__ (self, make, model, year):\n",
    "        self.make = make\n",
    "        self.model = model\n",
    "        self.year = year\n",
    "        self.odometer_reading = 0\n",
    "        \n",
    "    def get_descriptive_name(self):\n",
    "        \"\"\"Return neatly formatted descriptive name\"\"\"\n",
    "        long_name = f\"{self.year} {self.make} {self.model}\"\n",
    "        return long_name.title()\n",
    "    \n",
    "    def read_odometer(self):\n",
    "        \"\"\"Returns over all mileage of the car\"\"\"\n",
    "        print(f\"This car has {self.odometer_reading} miles on it.\")\n",
    "        \n",
    "    def update_odometer(self, mileage):\n",
    "        \"\"\"It will update the odometer and give a value\"\"\"\n",
    "        if mileage >= odometer_reading:\n",
    "            self.odometer_reading = mileage\n",
    "        else:\n",
    "            print(\"You can't roll back an odometer\")\n",
    "    \n",
    "    def increment_odometer(self, miles):\n",
    "        \"\"\"Add the given amount to the odometer reading\"\"\"\n",
    "        self.odometer_reading += miles\n",
    "        "
   ]
  },
  {
   "cell_type": "code",
   "execution_count": 10,
   "id": "34739d6d",
   "metadata": {},
   "outputs": [],
   "source": [
    "my_car.update_odometer(156676)"
   ]
  },
  {
   "cell_type": "code",
   "execution_count": 11,
   "id": "8708158c",
   "metadata": {},
   "outputs": [
    {
     "name": "stdout",
     "output_type": "stream",
     "text": [
      "This car has 156676 miles on it.\n"
     ]
    }
   ],
   "source": [
    "my_car.read_odometer()"
   ]
  },
  {
   "cell_type": "code",
   "execution_count": 13,
   "id": "a7a34bdc",
   "metadata": {},
   "outputs": [
    {
     "name": "stdout",
     "output_type": "stream",
     "text": [
      "This car has 156676 miles on it.\n"
     ]
    }
   ],
   "source": [
    "my_car.update_odometer(156676)\n",
    "my_car.read_odometer()"
   ]
  },
  {
   "cell_type": "code",
   "execution_count": 14,
   "id": "5981151f",
   "metadata": {},
   "outputs": [
    {
     "data": {
      "text/plain": [
       "156676"
      ]
     },
     "execution_count": 14,
     "metadata": {},
     "output_type": "execute_result"
    }
   ],
   "source": [
    "my_car.odometer_reading"
   ]
  },
  {
   "cell_type": "code",
   "execution_count": 15,
   "id": "60e6786e",
   "metadata": {},
   "outputs": [],
   "source": [
    "my_car.update_odometer(12)"
   ]
  },
  {
   "cell_type": "code",
   "execution_count": 16,
   "id": "57b1fcbc",
   "metadata": {},
   "outputs": [
    {
     "name": "stdout",
     "output_type": "stream",
     "text": [
      "This car has 12 miles on it.\n"
     ]
    }
   ],
   "source": [
    "my_car.read_odometer()"
   ]
  },
  {
   "cell_type": "code",
   "execution_count": 17,
   "id": "a355f286",
   "metadata": {},
   "outputs": [],
   "source": [
    "#Incrementing an attribut'es value through a method."
   ]
  },
  {
   "cell_type": "code",
   "execution_count": 5,
   "id": "6b3a589d",
   "metadata": {},
   "outputs": [],
   "source": [
    "class Car:\n",
    "    \"\"\"A simple attempt to represent a car.\"\"\"\n",
    "    def __init__ (self, make, model, year):\n",
    "        self.make = make\n",
    "        self.model = model\n",
    "        self.year = year\n",
    "        self.odometer_reading = 0\n",
    "        \n",
    "    def get_descriptive_name(self):\n",
    "        \"\"\"Return neatly formatted descriptive name\"\"\"\n",
    "        long_name = f\"{self.year} {self.make} {self.model}\"\n",
    "        return long_name.title()\n",
    "    \n",
    "    def read_odometer(self):\n",
    "        \"\"\"Returns over all mileage of the car\"\"\"\n",
    "        print(f\"This car has {self.odometer_reading} miles on it.\")\n",
    "        \n",
    "    def update_odometer(self, mileage):\n",
    "        \"\"\"It will update the odometer and give a value\"\"\"\n",
    "        if mileage >= self.odometer_reading:\n",
    "            self.odometer_reading = mileage\n",
    "        else:\n",
    "            print(\"You can't roll back an odometer\")\n",
    "    \n",
    "    def increment_odometer(self, miles):\n",
    "        \"\"\"Add the given amount to the odometer reading\"\"\"\n",
    "        self.odometer_reading += miles"
   ]
  },
  {
   "cell_type": "code",
   "execution_count": 6,
   "id": "a080bf4c",
   "metadata": {},
   "outputs": [],
   "source": [
    "my_used_car = Car(\"Ford\",\"escape\", 2016)"
   ]
  },
  {
   "cell_type": "code",
   "execution_count": 7,
   "id": "b5af212e",
   "metadata": {},
   "outputs": [
    {
     "data": {
      "text/plain": [
       "'2016 Ford Escape'"
      ]
     },
     "execution_count": 7,
     "metadata": {},
     "output_type": "execute_result"
    }
   ],
   "source": [
    "my_used_car.get_descriptive_name()"
   ]
  },
  {
   "cell_type": "code",
   "execution_count": 8,
   "id": "1582e0d4",
   "metadata": {},
   "outputs": [
    {
     "name": "stdout",
     "output_type": "stream",
     "text": [
      "This car has 23500 miles on it.\n"
     ]
    }
   ],
   "source": [
    "my_used_car.update_odometer(23500)\n",
    "my_used_car.read_odometer()"
   ]
  },
  {
   "cell_type": "code",
   "execution_count": 9,
   "id": "40715f03",
   "metadata": {},
   "outputs": [
    {
     "name": "stdout",
     "output_type": "stream",
     "text": [
      "This car has 23600 miles on it.\n"
     ]
    }
   ],
   "source": [
    "my_used_car.increment_odometer(100)\n",
    "my_used_car.read_odometer()"
   ]
  },
  {
   "cell_type": "code",
   "execution_count": 11,
   "id": "1712c11c",
   "metadata": {},
   "outputs": [
    {
     "name": "stdout",
     "output_type": "stream",
     "text": [
      "You can't roll back an odometer\n",
      "This car has 23600 miles on it.\n"
     ]
    }
   ],
   "source": [
    "my_used_car.update_odometer(23500)\n",
    "my_used_car.read_odometer()"
   ]
  },
  {
   "cell_type": "code",
   "execution_count": 12,
   "id": "d8c29a4a",
   "metadata": {},
   "outputs": [],
   "source": [
    "#Exercise"
   ]
  },
  {
   "cell_type": "code",
   "execution_count": 1,
   "id": "ceb621fa",
   "metadata": {},
   "outputs": [],
   "source": [
    "class Restaurant:\n",
    "    \"\"\"A Simple attempt to model a Restaurant\"\"\"\n",
    "    def __init__ (self,restaurant_name, cuisine_type):\n",
    "        self.restaurant_name = restaurant_name\n",
    "        self.cuisine_type = cuisine_type\n",
    "        self.number_served = 0\n",
    "        \n",
    "    def describe_restaurant(self):\n",
    "        print(f\"{self.restaurant_name} is famous restaurant in dallas. Which provides all kind of indian food.\")\n",
    "        \n",
    "    def open_restaurant(self):\n",
    "        print(f\"{self.restaurant_name} is opened till Mid_night everyday.\")\n",
    "        \n",
    "    def read_served_num(self):\n",
    "        print(f\"The current number going is {self.number_served}.\")\n",
    "        \n",
    "    def update_served_num(self, people):\n",
    "        if people >= self.number_served:\n",
    "            self.number_served = people\n",
    "        else:\n",
    "            print(\"Can't roll back the current served number\")\n",
    "\n",
    "    def increment_served_num(self, people_count):\n",
    "        self.number_served += people_count"
   ]
  },
  {
   "cell_type": "code",
   "execution_count": 2,
   "id": "309eda35",
   "metadata": {},
   "outputs": [],
   "source": [
    "restaurant = Restaurant(\"Hyderabad_house\",\"Indian\")"
   ]
  },
  {
   "cell_type": "code",
   "execution_count": 3,
   "id": "126723c1",
   "metadata": {},
   "outputs": [
    {
     "name": "stdout",
     "output_type": "stream",
     "text": [
      "Hyderabad_house is famous restaurant in dallas. Which provides all kind of indian food.\n"
     ]
    }
   ],
   "source": [
    "restaurant.describe_restaurant()"
   ]
  },
  {
   "cell_type": "code",
   "execution_count": 4,
   "id": "ceb79dfb",
   "metadata": {},
   "outputs": [
    {
     "name": "stdout",
     "output_type": "stream",
     "text": [
      "Hyderabad_house is opened till Mid_night everyday.\n"
     ]
    }
   ],
   "source": [
    "restaurant.open_restaurant()"
   ]
  },
  {
   "cell_type": "code",
   "execution_count": 5,
   "id": "27539ab7",
   "metadata": {},
   "outputs": [
    {
     "name": "stdout",
     "output_type": "stream",
     "text": [
      "Number of customers the restaurant served 0.\n"
     ]
    }
   ],
   "source": [
    "print(f\"Number of customers the restaurant served {restaurant.number_served}.\")"
   ]
  },
  {
   "cell_type": "code",
   "execution_count": 6,
   "id": "c75367d3",
   "metadata": {},
   "outputs": [],
   "source": [
    "restaurant.update_served_num(23)"
   ]
  },
  {
   "cell_type": "code",
   "execution_count": 7,
   "id": "121a6db3",
   "metadata": {},
   "outputs": [
    {
     "data": {
      "text/plain": [
       "23"
      ]
     },
     "execution_count": 7,
     "metadata": {},
     "output_type": "execute_result"
    }
   ],
   "source": [
    "restaurant.number_served"
   ]
  },
  {
   "cell_type": "code",
   "execution_count": 8,
   "id": "fcf161e3",
   "metadata": {},
   "outputs": [
    {
     "name": "stdout",
     "output_type": "stream",
     "text": [
      "Can't roll back the current served number\n"
     ]
    }
   ],
   "source": [
    "restaurant.update_served_num(22)"
   ]
  },
  {
   "cell_type": "code",
   "execution_count": 9,
   "id": "a7056281",
   "metadata": {},
   "outputs": [
    {
     "name": "stdout",
     "output_type": "stream",
     "text": [
      "The current number going is 23.\n"
     ]
    }
   ],
   "source": [
    "restaurant.read_served_num()"
   ]
  },
  {
   "cell_type": "code",
   "execution_count": 10,
   "id": "c21a1d73",
   "metadata": {},
   "outputs": [],
   "source": [
    "restaurant.increment_served_num(24)"
   ]
  },
  {
   "cell_type": "code",
   "execution_count": 12,
   "id": "1c25b52e",
   "metadata": {},
   "outputs": [
    {
     "name": "stdout",
     "output_type": "stream",
     "text": [
      "The current number going is 47.\n"
     ]
    }
   ],
   "source": [
    "restaurant.read_served_num()"
   ]
  },
  {
   "cell_type": "code",
   "execution_count": 13,
   "id": "f61ed7f1",
   "metadata": {},
   "outputs": [
    {
     "name": "stdout",
     "output_type": "stream",
     "text": [
      "Can't roll back the current served number\n"
     ]
    }
   ],
   "source": [
    "restaurant.update_served_num(46)"
   ]
  },
  {
   "cell_type": "code",
   "execution_count": 1,
   "id": "eed0b251",
   "metadata": {},
   "outputs": [],
   "source": [
    "class User:\n",
    "    def __init__ (self, first_name, last_name, age, height, weight, color):\n",
    "        self.first_name = first_name\n",
    "        self.last_name = last_name\n",
    "        self.age = age\n",
    "        self.height = height\n",
    "        self.weight = weight\n",
    "        self.color = color\n",
    "        self.login_attempts = 0\n",
    "        \n",
    "    def describe_user(self):\n",
    "        print(f\"{self.first_name} {self.last_name} is my full name.\")\n",
    "        print(f\"I am {self.age} years old.\")\n",
    "        print(f\"My height in inches {self.height}\")\n",
    "        print(f\"My weight in kgs {self.weight}\")\n",
    "        print(f\"My skin color is {self.color}\")\n",
    "        \n",
    "    def greet_user(self):\n",
    "        print(f\"{self.first_name} {self.last_name} I hope you're doing well today !\")\n",
    "        \n",
    "    def read_login_attempts(self):\n",
    "        print(f\"The present login attempt is {self.login_attempts}.\")\n",
    "        \n",
    "    def update_login_attempts(self, login):\n",
    "        if login >= self.login_attempts:\n",
    "            self.login_attempts = login\n",
    "        else:\n",
    "            print(f\"The user can't roll back the login attempt\")\n",
    "    \n",
    "    def increment_login_attempts(self, log):\n",
    "        self.login_attempts += 1"
   ]
  },
  {
   "cell_type": "code",
   "execution_count": 2,
   "id": "e83ac56e",
   "metadata": {},
   "outputs": [],
   "source": [
    "new_user = User(\"Sai\",\"Reddy\", 27, \"5feet 8 inches\", 77, \"brown\")"
   ]
  },
  {
   "cell_type": "code",
   "execution_count": 3,
   "id": "3f221319",
   "metadata": {},
   "outputs": [
    {
     "name": "stdout",
     "output_type": "stream",
     "text": [
      "Sai Reddy is my full name.\n",
      "I am 27 years old.\n",
      "My height in inches 5feet 8 inches\n",
      "My weight in kgs 77\n",
      "My skin color is brown\n"
     ]
    }
   ],
   "source": [
    "new_user.describe_user()"
   ]
  },
  {
   "cell_type": "code",
   "execution_count": 4,
   "id": "af5df0ff",
   "metadata": {},
   "outputs": [
    {
     "name": "stdout",
     "output_type": "stream",
     "text": [
      "Sai Reddy I hope you're doing well today !\n"
     ]
    }
   ],
   "source": [
    "new_user.greet_user()"
   ]
  },
  {
   "cell_type": "code",
   "execution_count": 5,
   "id": "44df49ec",
   "metadata": {},
   "outputs": [
    {
     "name": "stdout",
     "output_type": "stream",
     "text": [
      "The present login attempt is 0.\n"
     ]
    }
   ],
   "source": [
    "new_user.read_login_attempts()"
   ]
  },
  {
   "cell_type": "code",
   "execution_count": 6,
   "id": "865ff7fb",
   "metadata": {},
   "outputs": [],
   "source": [
    "new_user.update_login_attempts(4)"
   ]
  },
  {
   "cell_type": "code",
   "execution_count": 7,
   "id": "442da60b",
   "metadata": {},
   "outputs": [
    {
     "name": "stdout",
     "output_type": "stream",
     "text": [
      "The present login attempt is 4.\n"
     ]
    }
   ],
   "source": [
    "new_user.read_login_attempts()"
   ]
  },
  {
   "cell_type": "code",
   "execution_count": 8,
   "id": "43f1eeeb",
   "metadata": {},
   "outputs": [
    {
     "name": "stdout",
     "output_type": "stream",
     "text": [
      "The user can't roll back the login attempt\n"
     ]
    }
   ],
   "source": [
    "new_user.update_login_attempts(2)"
   ]
  },
  {
   "cell_type": "code",
   "execution_count": 9,
   "id": "c3e7ff62",
   "metadata": {},
   "outputs": [
    {
     "ename": "TypeError",
     "evalue": "increment_login_attempts() missing 1 required positional argument: 'log'",
     "output_type": "error",
     "traceback": [
      "\u001b[0;31m---------------------------------------------------------------------------\u001b[0m",
      "\u001b[0;31mTypeError\u001b[0m                                 Traceback (most recent call last)",
      "Input \u001b[0;32mIn [9]\u001b[0m, in \u001b[0;36m<cell line: 1>\u001b[0;34m()\u001b[0m\n\u001b[0;32m----> 1\u001b[0m \u001b[43mnew_user\u001b[49m\u001b[38;5;241;43m.\u001b[39;49m\u001b[43mincrement_login_attempts\u001b[49m\u001b[43m(\u001b[49m\u001b[43m)\u001b[49m\n",
      "\u001b[0;31mTypeError\u001b[0m: increment_login_attempts() missing 1 required positional argument: 'log'"
     ]
    }
   ],
   "source": [
    "new_user.increment_login_attempts()"
   ]
  },
  {
   "cell_type": "code",
   "execution_count": 1,
   "id": "701322d4",
   "metadata": {},
   "outputs": [],
   "source": [
    "class Jay:\n",
    "    \"\"\"About Jay basic information\"\"\"\n",
    "    def __init__(self, first_name, last_name, age, height, weight, color):\n",
    "        self.first_name = first_name\n",
    "        self.last_name = last_name\n",
    "        self.age = age\n",
    "        self. height = height\n",
    "        self.weight = weight\n",
    "        self.color = color\n",
    "        \n",
    "    def full_name(self):\n",
    "        long_name = f\"{self.first_name} {self.last_name}\"\n",
    "        return long_name.title()\n",
    "    def greet(self):\n",
    "        print(f\"{self.first_name} is very handsome!\")"
   ]
  },
  {
   "cell_type": "code",
   "execution_count": 2,
   "id": "0c74aa0b",
   "metadata": {},
   "outputs": [],
   "source": [
    "about = Jay(\"jay\", \"reddy\", 23, 6, 65, \"brown\")"
   ]
  },
  {
   "cell_type": "code",
   "execution_count": 3,
   "id": "2098353a",
   "metadata": {},
   "outputs": [
    {
     "name": "stdout",
     "output_type": "stream",
     "text": [
      "Jay Reddy\n"
     ]
    }
   ],
   "source": [
    "print(about.full_name())"
   ]
  },
  {
   "cell_type": "code",
   "execution_count": 7,
   "id": "b9e4815d",
   "metadata": {},
   "outputs": [
    {
     "name": "stdout",
     "output_type": "stream",
     "text": [
      "jay is very handsome!\n",
      "None\n"
     ]
    }
   ],
   "source": [
    "print(about.greet())"
   ]
  },
  {
   "cell_type": "code",
   "execution_count": 11,
   "id": "12f5e569",
   "metadata": {},
   "outputs": [
    {
     "name": "stdout",
     "output_type": "stream",
     "text": [
      "hello python world!\n"
     ]
    }
   ],
   "source": [
    "print(\"hello python world!\")"
   ]
  },
  {
   "cell_type": "code",
   "execution_count": 18,
   "id": "d1d742d2",
   "metadata": {},
   "outputs": [],
   "source": [
    "variable = \"Hello Python world!\""
   ]
  },
  {
   "cell_type": "code",
   "execution_count": 13,
   "id": "4b29fbf4",
   "metadata": {},
   "outputs": [
    {
     "name": "stdout",
     "output_type": "stream",
     "text": [
      "Hello Python world!\n"
     ]
    }
   ],
   "source": [
    "print(variable)"
   ]
  },
  {
   "cell_type": "code",
   "execution_count": 14,
   "id": "e4c1d02a",
   "metadata": {},
   "outputs": [
    {
     "data": {
      "text/plain": [
       "'Hello Python World!'"
      ]
     },
     "execution_count": 14,
     "metadata": {},
     "output_type": "execute_result"
    }
   ],
   "source": [
    "variable.title()"
   ]
  },
  {
   "cell_type": "code",
   "execution_count": 15,
   "id": "c07ad64c",
   "metadata": {},
   "outputs": [
    {
     "data": {
      "text/plain": [
       "str"
      ]
     },
     "execution_count": 15,
     "metadata": {},
     "output_type": "execute_result"
    }
   ],
   "source": [
    "type(variable)"
   ]
  },
  {
   "cell_type": "code",
   "execution_count": 16,
   "id": "7bf5d2bc",
   "metadata": {},
   "outputs": [],
   "source": [
    "variable = \"Hellp python crash course!\""
   ]
  },
  {
   "cell_type": "code",
   "execution_count": 19,
   "id": "d0e12785",
   "metadata": {},
   "outputs": [
    {
     "name": "stdout",
     "output_type": "stream",
     "text": [
      "Hello Python world!\n"
     ]
    }
   ],
   "source": [
    "print(variable)"
   ]
  },
  {
   "cell_type": "code",
   "execution_count": 20,
   "id": "b92a8974",
   "metadata": {},
   "outputs": [],
   "source": [
    "name = \"sai Chander\""
   ]
  },
  {
   "cell_type": "code",
   "execution_count": 21,
   "id": "a0a46490",
   "metadata": {},
   "outputs": [
    {
     "name": "stdout",
     "output_type": "stream",
     "text": [
      "Sai Chander\n"
     ]
    }
   ],
   "source": [
    "print(name.title())"
   ]
  },
  {
   "cell_type": "code",
   "execution_count": 22,
   "id": "d31e3c8b",
   "metadata": {},
   "outputs": [
    {
     "name": "stdout",
     "output_type": "stream",
     "text": [
      "SAI CHANDER\n"
     ]
    }
   ],
   "source": [
    "print(name.upper())"
   ]
  },
  {
   "cell_type": "code",
   "execution_count": 23,
   "id": "37400bd8",
   "metadata": {},
   "outputs": [
    {
     "name": "stdout",
     "output_type": "stream",
     "text": [
      "sai chander\n"
     ]
    }
   ],
   "source": [
    "print(name.lower())"
   ]
  },
  {
   "cell_type": "code",
   "execution_count": 29,
   "id": "bf940bba",
   "metadata": {},
   "outputs": [
    {
     "name": "stdout",
     "output_type": "stream",
     "text": [
      "Sai Chada.\n"
     ]
    }
   ],
   "source": [
    "first_name = \"sai\"\n",
    "last_name = \"Chada\"\n",
    "full_name = f\"{first_name} {last_name}.\"\n",
    "print(full_name.title())"
   ]
  },
  {
   "cell_type": "code",
   "execution_count": 30,
   "id": "bd777021",
   "metadata": {},
   "outputs": [],
   "source": [
    "name = \"sai chander reddy\""
   ]
  },
  {
   "cell_type": "code",
   "execution_count": 31,
   "id": "ab05632c",
   "metadata": {},
   "outputs": [
    {
     "name": "stdout",
     "output_type": "stream",
     "text": [
      "ydder rednahc ias\n",
      "ydder rednahc ias\n",
      "ydder rednahc ias\n",
      "ydder rednahc ias\n",
      "ydder rednahc ias\n",
      "ydder rednahc ias\n",
      "ydder rednahc ias\n",
      "ydder rednahc ias\n",
      "ydder rednahc ias\n",
      "ydder rednahc ias\n",
      "ydder rednahc ias\n",
      "ydder rednahc ias\n",
      "ydder rednahc ias\n",
      "ydder rednahc ias\n",
      "ydder rednahc ias\n",
      "ydder rednahc ias\n",
      "ydder rednahc ias\n"
     ]
    }
   ],
   "source": [
    "for i in name:\n",
    "    s = name[::-1]\n",
    "    "
   ]
  },
  {
   "cell_type": "code",
   "execution_count": 32,
   "id": "319a96da",
   "metadata": {},
   "outputs": [
    {
     "name": "stdout",
     "output_type": "stream",
     "text": [
      "python\n"
     ]
    }
   ],
   "source": [
    "print(\"python\")"
   ]
  },
  {
   "cell_type": "code",
   "execution_count": 33,
   "id": "d23e4dec",
   "metadata": {},
   "outputs": [
    {
     "name": "stdout",
     "output_type": "stream",
     "text": [
      "\tpython\n"
     ]
    }
   ],
   "source": [
    "print(\"\\tpython\")"
   ]
  },
  {
   "cell_type": "code",
   "execution_count": 35,
   "id": "4f126bcd",
   "metadata": {},
   "outputs": [
    {
     "name": "stdout",
     "output_type": "stream",
     "text": [
      "\n",
      "python\n"
     ]
    }
   ],
   "source": [
    "print(\"\\npython\")"
   ]
  },
  {
   "cell_type": "code",
   "execution_count": 42,
   "id": "f57c508b",
   "metadata": {},
   "outputs": [
    {
     "name": "stdout",
     "output_type": "stream",
     "text": [
      "Languages:\n",
      "\tPython\n",
      "\tJava\n",
      "\tC++\n"
     ]
    }
   ],
   "source": [
    "print(\"Languages:\\n\\tPython\\n\\tJava\\n\\tC++\")"
   ]
  },
  {
   "cell_type": "code",
   "execution_count": 43,
   "id": "e321f241",
   "metadata": {},
   "outputs": [],
   "source": [
    "name = \"sai chander reddy     \""
   ]
  },
  {
   "cell_type": "code",
   "execution_count": 44,
   "id": "f70e76e7",
   "metadata": {},
   "outputs": [
    {
     "data": {
      "text/plain": [
       "'sai chander reddy'"
      ]
     },
     "execution_count": 44,
     "metadata": {},
     "output_type": "execute_result"
    }
   ],
   "source": [
    "name.rstrip()"
   ]
  },
  {
   "cell_type": "code",
   "execution_count": 45,
   "id": "dd4b5018",
   "metadata": {},
   "outputs": [],
   "source": [
    "name = \"     sai chander reddy\""
   ]
  },
  {
   "cell_type": "code",
   "execution_count": 46,
   "id": "c29ff8ea",
   "metadata": {},
   "outputs": [
    {
     "data": {
      "text/plain": [
       "'sai chander reddy'"
      ]
     },
     "execution_count": 46,
     "metadata": {},
     "output_type": "execute_result"
    }
   ],
   "source": [
    "name.lstrip()"
   ]
  },
  {
   "cell_type": "code",
   "execution_count": 47,
   "id": "4f361263",
   "metadata": {},
   "outputs": [],
   "source": [
    "name = \"    sai chander reddy.   \""
   ]
  },
  {
   "cell_type": "code",
   "execution_count": 48,
   "id": "f5e2b4d4",
   "metadata": {},
   "outputs": [
    {
     "data": {
      "text/plain": [
       "'    sai chander reddy.'"
      ]
     },
     "execution_count": 48,
     "metadata": {},
     "output_type": "execute_result"
    }
   ],
   "source": [
    "name.rstrip()"
   ]
  },
  {
   "cell_type": "code",
   "execution_count": 49,
   "id": "d277fab9",
   "metadata": {},
   "outputs": [
    {
     "data": {
      "text/plain": [
       "'sai chander reddy.   '"
      ]
     },
     "execution_count": 49,
     "metadata": {},
     "output_type": "execute_result"
    }
   ],
   "source": [
    "name.lstrip()"
   ]
  },
  {
   "cell_type": "code",
   "execution_count": 50,
   "id": "485a147b",
   "metadata": {},
   "outputs": [
    {
     "data": {
      "text/plain": [
       "'sai chander reddy.'"
      ]
     },
     "execution_count": 50,
     "metadata": {},
     "output_type": "execute_result"
    }
   ],
   "source": [
    "name.strip()"
   ]
  },
  {
   "cell_type": "code",
   "execution_count": 51,
   "id": "28b984ed",
   "metadata": {},
   "outputs": [
    {
     "name": "stdout",
     "output_type": "stream",
     "text": [
      "    sai chander reddy.   \n"
     ]
    }
   ],
   "source": [
    "print(name)"
   ]
  },
  {
   "cell_type": "code",
   "execution_count": 52,
   "id": "710461d2",
   "metadata": {},
   "outputs": [],
   "source": [
    "name = name.strip()"
   ]
  },
  {
   "cell_type": "code",
   "execution_count": 53,
   "id": "7aaf8701",
   "metadata": {},
   "outputs": [
    {
     "name": "stdout",
     "output_type": "stream",
     "text": [
      "sai chander reddy.\n"
     ]
    }
   ],
   "source": [
    "print(name)"
   ]
  },
  {
   "cell_type": "code",
   "execution_count": 54,
   "id": "e10c0675",
   "metadata": {},
   "outputs": [
    {
     "data": {
      "text/plain": [
       "5"
      ]
     },
     "execution_count": 54,
     "metadata": {},
     "output_type": "execute_result"
    }
   ],
   "source": [
    "2+3"
   ]
  },
  {
   "cell_type": "code",
   "execution_count": 55,
   "id": "5aa94702",
   "metadata": {},
   "outputs": [
    {
     "data": {
      "text/plain": [
       "1"
      ]
     },
     "execution_count": 55,
     "metadata": {},
     "output_type": "execute_result"
    }
   ],
   "source": [
    "6-5"
   ]
  },
  {
   "cell_type": "code",
   "execution_count": 56,
   "id": "15a034ae",
   "metadata": {},
   "outputs": [
    {
     "data": {
      "text/plain": [
       "50"
      ]
     },
     "execution_count": 56,
     "metadata": {},
     "output_type": "execute_result"
    }
   ],
   "source": [
    "2*25"
   ]
  },
  {
   "cell_type": "code",
   "execution_count": 57,
   "id": "2cf1d07b",
   "metadata": {},
   "outputs": [
    {
     "data": {
      "text/plain": [
       "1.5"
      ]
     },
     "execution_count": 57,
     "metadata": {},
     "output_type": "execute_result"
    }
   ],
   "source": [
    "3/2"
   ]
  },
  {
   "cell_type": "code",
   "execution_count": 58,
   "id": "049e6fe6",
   "metadata": {},
   "outputs": [
    {
     "data": {
      "text/plain": [
       "1"
      ]
     },
     "execution_count": 58,
     "metadata": {},
     "output_type": "execute_result"
    }
   ],
   "source": [
    "3%2"
   ]
  },
  {
   "cell_type": "code",
   "execution_count": 59,
   "id": "3c92ae12",
   "metadata": {},
   "outputs": [
    {
     "data": {
      "text/plain": [
       "9"
      ]
     },
     "execution_count": 59,
     "metadata": {},
     "output_type": "execute_result"
    }
   ],
   "source": [
    "3**2"
   ]
  },
  {
   "cell_type": "code",
   "execution_count": 60,
   "id": "f103216b",
   "metadata": {},
   "outputs": [
    {
     "data": {
      "text/plain": [
       "14"
      ]
     },
     "execution_count": 60,
     "metadata": {},
     "output_type": "execute_result"
    }
   ],
   "source": [
    "2+3*4"
   ]
  },
  {
   "cell_type": "code",
   "execution_count": 61,
   "id": "6b865be2",
   "metadata": {},
   "outputs": [
    {
     "data": {
      "text/plain": [
       "20"
      ]
     },
     "execution_count": 61,
     "metadata": {},
     "output_type": "execute_result"
    }
   ],
   "source": [
    "(2+3)*4"
   ]
  },
  {
   "cell_type": "code",
   "execution_count": 62,
   "id": "5f655ebd",
   "metadata": {},
   "outputs": [],
   "source": [
    "universe_age = 14_00000_0000000_900000"
   ]
  },
  {
   "cell_type": "code",
   "execution_count": 63,
   "id": "7b9fce69",
   "metadata": {},
   "outputs": [
    {
     "name": "stdout",
     "output_type": "stream",
     "text": [
      "14000000000000900000\n"
     ]
    }
   ],
   "source": [
    "print(universe_age)"
   ]
  },
  {
   "cell_type": "code",
   "execution_count": 64,
   "id": "9e21c1bf",
   "metadata": {},
   "outputs": [],
   "source": [
    "x, y, z = 1,2,3"
   ]
  },
  {
   "cell_type": "code",
   "execution_count": 65,
   "id": "0b01d926",
   "metadata": {},
   "outputs": [
    {
     "name": "stdout",
     "output_type": "stream",
     "text": [
      "1\n"
     ]
    }
   ],
   "source": [
    "print(x)"
   ]
  },
  {
   "cell_type": "code",
   "execution_count": 66,
   "id": "40163b5e",
   "metadata": {},
   "outputs": [
    {
     "name": "stdout",
     "output_type": "stream",
     "text": [
      "1 2 3\n"
     ]
    }
   ],
   "source": [
    "print(x,y,z)"
   ]
  },
  {
   "cell_type": "code",
   "execution_count": 67,
   "id": "a56597f6",
   "metadata": {},
   "outputs": [
    {
     "name": "stdout",
     "output_type": "stream",
     "text": [
      "6\n"
     ]
    }
   ],
   "source": [
    "print(x+y+z)"
   ]
  },
  {
   "cell_type": "code",
   "execution_count": 68,
   "id": "7f388e98",
   "metadata": {},
   "outputs": [
    {
     "name": "stdout",
     "output_type": "stream",
     "text": [
      "6\n"
     ]
    }
   ],
   "source": [
    "print(x*y*z)"
   ]
  },
  {
   "cell_type": "code",
   "execution_count": 69,
   "id": "5554cd66",
   "metadata": {},
   "outputs": [
    {
     "name": "stdout",
     "output_type": "stream",
     "text": [
      "0.16666666666666666\n"
     ]
    }
   ],
   "source": [
    "print(x/y/z)"
   ]
  },
  {
   "cell_type": "code",
   "execution_count": 70,
   "id": "268b3ff7",
   "metadata": {},
   "outputs": [],
   "source": [
    "MAX_CONNECTIONS = 5000"
   ]
  },
  {
   "cell_type": "code",
   "execution_count": 71,
   "id": "12465228",
   "metadata": {},
   "outputs": [
    {
     "name": "stdout",
     "output_type": "stream",
     "text": [
      "5000\n"
     ]
    }
   ],
   "source": [
    "print(MAX_CONNECTIONS)"
   ]
  },
  {
   "cell_type": "code",
   "execution_count": 72,
   "id": "ed6d21e4",
   "metadata": {},
   "outputs": [],
   "source": [
    "bicycles = [\"trek\", \"redline\", \"specialized\"]"
   ]
  },
  {
   "cell_type": "code",
   "execution_count": 73,
   "id": "ad09d810",
   "metadata": {},
   "outputs": [
    {
     "name": "stdout",
     "output_type": "stream",
     "text": [
      "['trek', 'redline', 'specialized']\n"
     ]
    }
   ],
   "source": [
    "print(bicycles)"
   ]
  },
  {
   "cell_type": "code",
   "execution_count": 74,
   "id": "c5f8a30e",
   "metadata": {},
   "outputs": [
    {
     "data": {
      "text/plain": [
       "list"
      ]
     },
     "execution_count": 74,
     "metadata": {},
     "output_type": "execute_result"
    }
   ],
   "source": [
    "type(bicycles)"
   ]
  },
  {
   "cell_type": "code",
   "execution_count": 75,
   "id": "cf3c3127",
   "metadata": {},
   "outputs": [],
   "source": [
    "#Accessing elements in the list"
   ]
  },
  {
   "cell_type": "code",
   "execution_count": 76,
   "id": "9264bb20",
   "metadata": {},
   "outputs": [
    {
     "name": "stdout",
     "output_type": "stream",
     "text": [
      "trek\n"
     ]
    }
   ],
   "source": [
    "print(bicycles[0])"
   ]
  },
  {
   "cell_type": "code",
   "execution_count": 77,
   "id": "ba6b5f39",
   "metadata": {},
   "outputs": [
    {
     "name": "stdout",
     "output_type": "stream",
     "text": [
      "['trek', 'redline', 'specialized']\n"
     ]
    }
   ],
   "source": [
    "print(bicycles[:])"
   ]
  },
  {
   "cell_type": "code",
   "execution_count": 91,
   "id": "69b0f0e4",
   "metadata": {},
   "outputs": [
    {
     "name": "stdout",
     "output_type": "stream",
     "text": [
      "['trek', 'redline', 'specialized']\n"
     ]
    }
   ],
   "source": [
    "print(bicycles[:])"
   ]
  },
  {
   "cell_type": "code",
   "execution_count": 97,
   "id": "a71462a4",
   "metadata": {},
   "outputs": [
    {
     "name": "stdout",
     "output_type": "stream",
     "text": [
      "Specialized\n"
     ]
    }
   ],
   "source": [
    "print(bicycles[2].title())"
   ]
  },
  {
   "cell_type": "code",
   "execution_count": 103,
   "id": "f83de028",
   "metadata": {},
   "outputs": [
    {
     "name": "stdout",
     "output_type": "stream",
     "text": [
      "specialized\n"
     ]
    }
   ],
   "source": [
    "print(bicycles[-1])"
   ]
  },
  {
   "cell_type": "code",
   "execution_count": 104,
   "id": "812c5a82",
   "metadata": {},
   "outputs": [
    {
     "name": "stdout",
     "output_type": "stream",
     "text": [
      "My first bicycle was a Redline\n"
     ]
    }
   ],
   "source": [
    "print(f\"My first bicycle was a {bicycles[1].title()}\")"
   ]
  },
  {
   "cell_type": "code",
   "execution_count": 105,
   "id": "06ff060a",
   "metadata": {},
   "outputs": [],
   "source": [
    "#Examples"
   ]
  },
  {
   "cell_type": "code",
   "execution_count": 106,
   "id": "26f9b6da",
   "metadata": {},
   "outputs": [],
   "source": [
    "Names = [\"Jay\",\"Avinash\",\"Anil\",\"Pranaya\",\"Vishwas\",\"Uday\",\"Deepak\",\"Ravi\",\"Santa\",\"Sravan\"]"
   ]
  },
  {
   "cell_type": "code",
   "execution_count": 111,
   "id": "2d8b954d",
   "metadata": {},
   "outputs": [
    {
     "name": "stdout",
     "output_type": "stream",
     "text": [
      "The list contains names of Sai Friends jay\n",
      "The list contains names of Sai Friends avinash\n",
      "The list contains names of Sai Friends anil\n",
      "The list contains names of Sai Friends pranaya\n",
      "The list contains names of Sai Friends vishwas\n",
      "The list contains names of Sai Friends uday\n",
      "The list contains names of Sai Friends deepak\n",
      "The list contains names of Sai Friends ravi\n",
      "The list contains names of Sai Friends santa\n",
      "The list contains names of Sai Friends sravan\n"
     ]
    }
   ],
   "source": [
    "for i in Names:\n",
    "    print(f\"The list contains names of Sai Friends {i.lower()}\")"
   ]
  },
  {
   "cell_type": "code",
   "execution_count": 112,
   "id": "c3dab88d",
   "metadata": {},
   "outputs": [
    {
     "data": {
      "text/plain": [
       "['Jay',\n",
       " 'Avinash',\n",
       " 'Anil',\n",
       " 'Pranaya',\n",
       " 'Vishwas',\n",
       " 'Uday',\n",
       " 'Deepak',\n",
       " 'Ravi',\n",
       " 'Santa',\n",
       " 'Sravan']"
      ]
     },
     "execution_count": 112,
     "metadata": {},
     "output_type": "execute_result"
    }
   ],
   "source": [
    "Names[:]"
   ]
  },
  {
   "cell_type": "code",
   "execution_count": 125,
   "id": "3de4d397",
   "metadata": {},
   "outputs": [
    {
     "data": {
      "text/plain": [
       "['Sravan',\n",
       " 'Santa',\n",
       " 'Ravi',\n",
       " 'Deepak',\n",
       " 'Uday',\n",
       " 'Vishwas',\n",
       " 'Pranaya',\n",
       " 'Anil',\n",
       " 'Avinash',\n",
       " 'Jay']"
      ]
     },
     "execution_count": 125,
     "metadata": {},
     "output_type": "execute_result"
    }
   ],
   "source": [
    "Names[::-1]"
   ]
  },
  {
   "cell_type": "code",
   "execution_count": 138,
   "id": "5efcaf26",
   "metadata": {},
   "outputs": [
    {
     "data": {
      "text/plain": [
       "['Pranaya', 'Santa']"
      ]
     },
     "execution_count": 138,
     "metadata": {},
     "output_type": "execute_result"
    }
   ],
   "source": [
    "Names[3::5]"
   ]
  },
  {
   "cell_type": "code",
   "execution_count": 139,
   "id": "0d79f6f0",
   "metadata": {},
   "outputs": [],
   "source": [
    "#Modifying elements in the list"
   ]
  },
  {
   "cell_type": "code",
   "execution_count": 140,
   "id": "d0452d9f",
   "metadata": {},
   "outputs": [],
   "source": [
    "motorcycles = [\"honda\",\"yamaha\",\"suzuki\"]"
   ]
  },
  {
   "cell_type": "code",
   "execution_count": 141,
   "id": "4f861172",
   "metadata": {},
   "outputs": [],
   "source": [
    "motorcycles[0] = \"ducati\""
   ]
  },
  {
   "cell_type": "code",
   "execution_count": 142,
   "id": "a66447e1",
   "metadata": {},
   "outputs": [
    {
     "name": "stdout",
     "output_type": "stream",
     "text": [
      "['ducati', 'yamaha', 'suzuki']\n"
     ]
    }
   ],
   "source": [
    "print(motorcycles)"
   ]
  },
  {
   "cell_type": "code",
   "execution_count": 143,
   "id": "dbf75fed",
   "metadata": {},
   "outputs": [],
   "source": [
    "motorcycles.append(\"honda\")"
   ]
  },
  {
   "cell_type": "code",
   "execution_count": 144,
   "id": "12f90067",
   "metadata": {},
   "outputs": [
    {
     "name": "stdout",
     "output_type": "stream",
     "text": [
      "['ducati', 'yamaha', 'suzuki', 'honda']\n"
     ]
    }
   ],
   "source": [
    "print(motorcycles)"
   ]
  },
  {
   "cell_type": "code",
   "execution_count": 150,
   "id": "714c8953",
   "metadata": {},
   "outputs": [
    {
     "name": "stdout",
     "output_type": "stream",
     "text": [
      "['honda', 'suzuki', 'ducati']\n"
     ]
    }
   ],
   "source": [
    "bike_names = []\n",
    "bike_names.append(\"honda\")\n",
    "bike_names.append(\"suzuki\")\n",
    "bike_names.append(\"ducati\")\n",
    "print(bike_names)"
   ]
  },
  {
   "cell_type": "code",
   "execution_count": 151,
   "id": "0e9fcc5b",
   "metadata": {},
   "outputs": [],
   "source": [
    "#Inserting elements into the list"
   ]
  },
  {
   "cell_type": "code",
   "execution_count": 152,
   "id": "519eda72",
   "metadata": {},
   "outputs": [],
   "source": [
    "bike_names.insert(0, \"yamaha\")"
   ]
  },
  {
   "cell_type": "code",
   "execution_count": 153,
   "id": "63129fcf",
   "metadata": {},
   "outputs": [
    {
     "name": "stdout",
     "output_type": "stream",
     "text": [
      "['yamaha', 'honda', 'suzuki', 'ducati']\n"
     ]
    }
   ],
   "source": [
    "print(bike_names)"
   ]
  },
  {
   "cell_type": "code",
   "execution_count": 154,
   "id": "71b9b321",
   "metadata": {},
   "outputs": [],
   "source": [
    "bike_names.insert(5, \"yamaha\")"
   ]
  },
  {
   "cell_type": "code",
   "execution_count": 155,
   "id": "21d212f9",
   "metadata": {},
   "outputs": [
    {
     "name": "stdout",
     "output_type": "stream",
     "text": [
      "['yamaha', 'honda', 'suzuki', 'ducati', 'yamaha']\n"
     ]
    }
   ],
   "source": [
    "print(bike_names)"
   ]
  },
  {
   "cell_type": "code",
   "execution_count": 159,
   "id": "6e6d2fc9",
   "metadata": {},
   "outputs": [
    {
     "name": "stdout",
     "output_type": "stream",
     "text": [
      "HONDA\n"
     ]
    }
   ],
   "source": [
    "print(bike_names[1].upper())"
   ]
  },
  {
   "cell_type": "code",
   "execution_count": 160,
   "id": "d9fd0ec3",
   "metadata": {},
   "outputs": [],
   "source": [
    "#Removing an item using the del statement"
   ]
  },
  {
   "cell_type": "code",
   "execution_count": 161,
   "id": "4c994a6c",
   "metadata": {},
   "outputs": [
    {
     "name": "stdout",
     "output_type": "stream",
     "text": [
      "['yamaha', 'honda', 'suzuki', 'ducati', 'yamaha']\n"
     ]
    }
   ],
   "source": [
    "print(bike_names)"
   ]
  },
  {
   "cell_type": "code",
   "execution_count": 164,
   "id": "29f70cc7",
   "metadata": {},
   "outputs": [],
   "source": [
    "del bike_names[4]"
   ]
  },
  {
   "cell_type": "code",
   "execution_count": 165,
   "id": "3001ce23",
   "metadata": {},
   "outputs": [
    {
     "name": "stdout",
     "output_type": "stream",
     "text": [
      "['yamaha', 'honda', 'suzuki', 'ducati']\n"
     ]
    }
   ],
   "source": [
    "print(bike_names)"
   ]
  },
  {
   "cell_type": "code",
   "execution_count": 167,
   "id": "6fb75ed3",
   "metadata": {},
   "outputs": [],
   "source": [
    "del bike_names[2]"
   ]
  },
  {
   "cell_type": "code",
   "execution_count": 168,
   "id": "501e5ff0",
   "metadata": {},
   "outputs": [
    {
     "name": "stdout",
     "output_type": "stream",
     "text": [
      "['yamaha', 'honda', 'ducati']\n"
     ]
    }
   ],
   "source": [
    "print(bike_names)"
   ]
  },
  {
   "cell_type": "code",
   "execution_count": 169,
   "id": "051606f1",
   "metadata": {},
   "outputs": [],
   "source": [
    "bike_names.append(\"yamaha\")"
   ]
  },
  {
   "cell_type": "code",
   "execution_count": 170,
   "id": "030f732f",
   "metadata": {},
   "outputs": [],
   "source": [
    "bike_names.append(\"suzuki\")"
   ]
  },
  {
   "cell_type": "code",
   "execution_count": 171,
   "id": "b90f3f8b",
   "metadata": {},
   "outputs": [
    {
     "name": "stdout",
     "output_type": "stream",
     "text": [
      "['yamaha', 'honda', 'ducati', 'yamaha', 'suzuki']\n"
     ]
    }
   ],
   "source": [
    "print(bike_names)"
   ]
  },
  {
   "cell_type": "code",
   "execution_count": 172,
   "id": "6dd26a42",
   "metadata": {},
   "outputs": [],
   "source": [
    "bike_names.insert(3, \"bmw\")"
   ]
  },
  {
   "cell_type": "code",
   "execution_count": 173,
   "id": "e697d906",
   "metadata": {},
   "outputs": [
    {
     "name": "stdout",
     "output_type": "stream",
     "text": [
      "['yamaha', 'honda', 'ducati', 'bmw', 'yamaha', 'suzuki']\n"
     ]
    }
   ],
   "source": [
    "print(bike_names)"
   ]
  },
  {
   "cell_type": "code",
   "execution_count": 174,
   "id": "0adaee54",
   "metadata": {},
   "outputs": [],
   "source": [
    "#Removing items using the pop() method"
   ]
  },
  {
   "cell_type": "code",
   "execution_count": 175,
   "id": "13feea32",
   "metadata": {},
   "outputs": [],
   "source": [
    "motor = ['yamaha', 'honda', 'suzuki', 'ducati', 'yamaha']"
   ]
  },
  {
   "cell_type": "code",
   "execution_count": 176,
   "id": "731e6e96",
   "metadata": {},
   "outputs": [
    {
     "name": "stdout",
     "output_type": "stream",
     "text": [
      "['yamaha', 'honda', 'suzuki', 'ducati', 'yamaha']\n"
     ]
    }
   ],
   "source": [
    "print(motor)"
   ]
  },
  {
   "cell_type": "code",
   "execution_count": 177,
   "id": "3a27d14e",
   "metadata": {},
   "outputs": [],
   "source": [
    "popped_motor = motor.pop()"
   ]
  },
  {
   "cell_type": "code",
   "execution_count": 178,
   "id": "a2f3f15a",
   "metadata": {},
   "outputs": [
    {
     "name": "stdout",
     "output_type": "stream",
     "text": [
      "yamaha\n"
     ]
    }
   ],
   "source": [
    "print(popped_motor)"
   ]
  },
  {
   "cell_type": "code",
   "execution_count": 180,
   "id": "f3c93102",
   "metadata": {},
   "outputs": [
    {
     "name": "stdout",
     "output_type": "stream",
     "text": [
      "['yamaha', 'honda', 'suzuki', 'ducati']\n"
     ]
    }
   ],
   "source": [
    "print(motor)"
   ]
  },
  {
   "cell_type": "code",
   "execution_count": 181,
   "id": "84a13c65",
   "metadata": {},
   "outputs": [],
   "source": [
    "popped_1 = motor.pop()"
   ]
  },
  {
   "cell_type": "code",
   "execution_count": 182,
   "id": "98da06fd",
   "metadata": {},
   "outputs": [
    {
     "name": "stdout",
     "output_type": "stream",
     "text": [
      "ducati\n"
     ]
    }
   ],
   "source": [
    "print(popped_1)"
   ]
  },
  {
   "cell_type": "code",
   "execution_count": 183,
   "id": "15357428",
   "metadata": {},
   "outputs": [],
   "source": [
    "#Removing an item by value"
   ]
  },
  {
   "cell_type": "code",
   "execution_count": 184,
   "id": "75d27bdb",
   "metadata": {},
   "outputs": [
    {
     "name": "stdout",
     "output_type": "stream",
     "text": [
      "['yamaha', 'honda', 'suzuki']\n"
     ]
    }
   ],
   "source": [
    "print(motor)"
   ]
  },
  {
   "cell_type": "code",
   "execution_count": 185,
   "id": "242fc8b9",
   "metadata": {},
   "outputs": [],
   "source": [
    "motor.append(\"ducati\")"
   ]
  },
  {
   "cell_type": "code",
   "execution_count": 186,
   "id": "64cde097",
   "metadata": {},
   "outputs": [
    {
     "name": "stdout",
     "output_type": "stream",
     "text": [
      "['yamaha', 'honda', 'suzuki', 'ducati']\n"
     ]
    }
   ],
   "source": [
    "print(motor)"
   ]
  },
  {
   "cell_type": "code",
   "execution_count": 187,
   "id": "8630dd70",
   "metadata": {},
   "outputs": [],
   "source": [
    "motor.remove(\"honda\")"
   ]
  },
  {
   "cell_type": "code",
   "execution_count": 188,
   "id": "17032197",
   "metadata": {},
   "outputs": [
    {
     "name": "stdout",
     "output_type": "stream",
     "text": [
      "['yamaha', 'suzuki', 'ducati']\n"
     ]
    }
   ],
   "source": [
    "print(motor)"
   ]
  },
  {
   "cell_type": "code",
   "execution_count": 189,
   "id": "08e58c42",
   "metadata": {},
   "outputs": [],
   "source": [
    "#Exercise"
   ]
  },
  {
   "cell_type": "code",
   "execution_count": 191,
   "id": "29509835",
   "metadata": {},
   "outputs": [],
   "source": [
    "guest = [\"pranaya\",\"mom\",\"dad\",\"brother\"]"
   ]
  },
  {
   "cell_type": "code",
   "execution_count": 196,
   "id": "a2583b5a",
   "metadata": {},
   "outputs": [
    {
     "name": "stdout",
     "output_type": "stream",
     "text": [
      "Today is my birthday. Pranaya please come to dinner tonight\n",
      "Today is my birthday. Mom please come to dinner tonight\n",
      "Today is my birthday. Dad please come to dinner tonight\n",
      "Today is my birthday. Brother please come to dinner tonight\n"
     ]
    }
   ],
   "source": [
    "for i in guest:\n",
    "    print(f\"Today is my birthday. {i.title()} please come to dinner tonight\")"
   ]
  },
  {
   "cell_type": "code",
   "execution_count": 199,
   "id": "9f5efa95",
   "metadata": {},
   "outputs": [
    {
     "ename": "IndexError",
     "evalue": "pop index out of range",
     "output_type": "error",
     "traceback": [
      "\u001b[0;31m---------------------------------------------------------------------------\u001b[0m",
      "\u001b[0;31mIndexError\u001b[0m                                Traceback (most recent call last)",
      "Input \u001b[0;32mIn [199]\u001b[0m, in \u001b[0;36m<cell line: 1>\u001b[0;34m()\u001b[0m\n\u001b[0;32m----> 1\u001b[0m s \u001b[38;5;241m=\u001b[39m \u001b[43mguest\u001b[49m\u001b[38;5;241;43m.\u001b[39;49m\u001b[43mpop\u001b[49m\u001b[43m(\u001b[49m\u001b[38;5;241;43m3\u001b[39;49m\u001b[43m)\u001b[49m\n",
      "\u001b[0;31mIndexError\u001b[0m: pop index out of range"
     ]
    }
   ],
   "source": [
    "s = guest.pop(3)"
   ]
  },
  {
   "cell_type": "code",
   "execution_count": null,
   "id": "1a1e55ed",
   "metadata": {},
   "outputs": [],
   "source": [
    "print(f\"I have a work can't come to dinner tonight.\")"
   ]
  },
  {
   "cell_type": "code",
   "execution_count": 200,
   "id": "4cf5f29c",
   "metadata": {},
   "outputs": [
    {
     "name": "stdout",
     "output_type": "stream",
     "text": [
      "['pranaya', 'mom', 'dad']\n"
     ]
    }
   ],
   "source": [
    "print(guest)"
   ]
  },
  {
   "cell_type": "code",
   "execution_count": 201,
   "id": "f0ee66fc",
   "metadata": {},
   "outputs": [],
   "source": [
    "guest.insert(2, \"Anudeep\")"
   ]
  },
  {
   "cell_type": "code",
   "execution_count": 202,
   "id": "56486bbb",
   "metadata": {},
   "outputs": [
    {
     "name": "stdout",
     "output_type": "stream",
     "text": [
      "['pranaya', 'mom', 'Anudeep', 'dad']\n"
     ]
    }
   ],
   "source": [
    "print(guest)"
   ]
  },
  {
   "cell_type": "code",
   "execution_count": 203,
   "id": "a749f864",
   "metadata": {},
   "outputs": [],
   "source": [
    "s = guest.pop(2)"
   ]
  },
  {
   "cell_type": "code",
   "execution_count": 206,
   "id": "e7e7a5da",
   "metadata": {},
   "outputs": [
    {
     "name": "stdout",
     "output_type": "stream",
     "text": [
      "Busy at work can't attend the dinner. Thanks for inviting Anudeep\n"
     ]
    }
   ],
   "source": [
    "print(f\"Busy at work can't attend the dinner. Thanks for inviting {s.title()}\")"
   ]
  },
  {
   "cell_type": "code",
   "execution_count": 207,
   "id": "a26466da",
   "metadata": {},
   "outputs": [
    {
     "name": "stdout",
     "output_type": "stream",
     "text": [
      "['pranaya', 'mom', 'dad']\n"
     ]
    }
   ],
   "source": [
    "print(guest)"
   ]
  },
  {
   "cell_type": "code",
   "execution_count": 209,
   "id": "9a72a3b6",
   "metadata": {},
   "outputs": [],
   "source": [
    "#organizing a list"
   ]
  },
  {
   "cell_type": "code",
   "execution_count": 210,
   "id": "56e7d9ce",
   "metadata": {},
   "outputs": [],
   "source": [
    "#Sorting a list permanently with the sort() method"
   ]
  },
  {
   "cell_type": "code",
   "execution_count": 211,
   "id": "9f480ec1",
   "metadata": {},
   "outputs": [],
   "source": [
    "cars = [\"bmw\",\"audi\",\"toyota\",\"subaru\"]"
   ]
  },
  {
   "cell_type": "code",
   "execution_count": 212,
   "id": "8548d082",
   "metadata": {},
   "outputs": [
    {
     "name": "stdout",
     "output_type": "stream",
     "text": [
      "['bmw', 'audi', 'toyota', 'subaru']\n"
     ]
    }
   ],
   "source": [
    "print(cars)"
   ]
  },
  {
   "cell_type": "code",
   "execution_count": 213,
   "id": "9a444a41",
   "metadata": {},
   "outputs": [],
   "source": [
    "cars.sort()"
   ]
  },
  {
   "cell_type": "code",
   "execution_count": 216,
   "id": "ab440ae5",
   "metadata": {},
   "outputs": [
    {
     "name": "stdout",
     "output_type": "stream",
     "text": [
      "['audi', 'bmw', 'subaru', 'toyota']\n"
     ]
    }
   ],
   "source": [
    "print(cars)"
   ]
  },
  {
   "cell_type": "code",
   "execution_count": 217,
   "id": "7e7322a5",
   "metadata": {},
   "outputs": [
    {
     "data": {
      "text/plain": [
       "['audi', 'bmw', 'subaru', 'toyota']"
      ]
     },
     "execution_count": 217,
     "metadata": {},
     "output_type": "execute_result"
    }
   ],
   "source": [
    "cars"
   ]
  },
  {
   "cell_type": "code",
   "execution_count": 218,
   "id": "f8992f84",
   "metadata": {},
   "outputs": [],
   "source": [
    "cars.sort(reverse = True)"
   ]
  },
  {
   "cell_type": "code",
   "execution_count": 219,
   "id": "a95a4a0c",
   "metadata": {},
   "outputs": [
    {
     "data": {
      "text/plain": [
       "['toyota', 'subaru', 'bmw', 'audi']"
      ]
     },
     "execution_count": 219,
     "metadata": {},
     "output_type": "execute_result"
    }
   ],
   "source": [
    "cars"
   ]
  },
  {
   "cell_type": "code",
   "execution_count": 220,
   "id": "a4afd506",
   "metadata": {},
   "outputs": [],
   "source": [
    "#Sorting a list temporarily with the sorted() function"
   ]
  },
  {
   "cell_type": "code",
   "execution_count": 221,
   "id": "62b2ce44",
   "metadata": {},
   "outputs": [
    {
     "data": {
      "text/plain": [
       "['toyota', 'subaru', 'bmw', 'audi']"
      ]
     },
     "execution_count": 221,
     "metadata": {},
     "output_type": "execute_result"
    }
   ],
   "source": [
    "cars"
   ]
  },
  {
   "cell_type": "code",
   "execution_count": 222,
   "id": "89e847d8",
   "metadata": {},
   "outputs": [
    {
     "name": "stdout",
     "output_type": "stream",
     "text": [
      "Here is the original list:\n",
      "['toyota', 'subaru', 'bmw', 'audi']\n"
     ]
    }
   ],
   "source": [
    "print(\"Here is the original list:\")\n",
    "print(cars)"
   ]
  },
  {
   "cell_type": "code",
   "execution_count": 223,
   "id": "478e7d36",
   "metadata": {},
   "outputs": [
    {
     "name": "stdout",
     "output_type": "stream",
     "text": [
      "\n",
      "here is the sorted list:\n",
      "['audi', 'bmw', 'subaru', 'toyota']\n"
     ]
    }
   ],
   "source": [
    "print(\"\\nhere is the sorted list:\")\n",
    "print(sorted(cars))"
   ]
  },
  {
   "cell_type": "code",
   "execution_count": 224,
   "id": "1a17c93e",
   "metadata": {},
   "outputs": [
    {
     "name": "stdout",
     "output_type": "stream",
     "text": [
      "\n",
      "Here is the original list:\n",
      "['toyota', 'subaru', 'bmw', 'audi']\n"
     ]
    }
   ],
   "source": [
    "print(\"\\nHere is the original list:\")\n",
    "print(cars)"
   ]
  },
  {
   "cell_type": "code",
   "execution_count": 225,
   "id": "e115b59d",
   "metadata": {},
   "outputs": [],
   "source": [
    "#Print a list in Reverse order."
   ]
  },
  {
   "cell_type": "code",
   "execution_count": 226,
   "id": "e601fe9e",
   "metadata": {},
   "outputs": [
    {
     "data": {
      "text/plain": [
       "['toyota', 'subaru', 'bmw', 'audi']"
      ]
     },
     "execution_count": 226,
     "metadata": {},
     "output_type": "execute_result"
    }
   ],
   "source": [
    "cars"
   ]
  },
  {
   "cell_type": "code",
   "execution_count": 227,
   "id": "7f8dcd6e",
   "metadata": {},
   "outputs": [],
   "source": [
    "cars.reverse()"
   ]
  },
  {
   "cell_type": "code",
   "execution_count": 228,
   "id": "c784bf4f",
   "metadata": {},
   "outputs": [
    {
     "name": "stdout",
     "output_type": "stream",
     "text": [
      "['audi', 'bmw', 'subaru', 'toyota']\n"
     ]
    }
   ],
   "source": [
    "print(cars)"
   ]
  },
  {
   "cell_type": "code",
   "execution_count": 230,
   "id": "00c11609",
   "metadata": {},
   "outputs": [],
   "source": [
    "cars.reverse()"
   ]
  },
  {
   "cell_type": "code",
   "execution_count": 231,
   "id": "99b54875",
   "metadata": {},
   "outputs": [
    {
     "data": {
      "text/plain": [
       "['toyota', 'subaru', 'bmw', 'audi']"
      ]
     },
     "execution_count": 231,
     "metadata": {},
     "output_type": "execute_result"
    }
   ],
   "source": [
    "cars"
   ]
  },
  {
   "cell_type": "code",
   "execution_count": 232,
   "id": "079cc88b",
   "metadata": {},
   "outputs": [],
   "source": [
    "#Finding length of the list"
   ]
  },
  {
   "cell_type": "code",
   "execution_count": 233,
   "id": "26690000",
   "metadata": {},
   "outputs": [
    {
     "data": {
      "text/plain": [
       "4"
      ]
     },
     "execution_count": 233,
     "metadata": {},
     "output_type": "execute_result"
    }
   ],
   "source": [
    "len(cars)"
   ]
  },
  {
   "cell_type": "code",
   "execution_count": 234,
   "id": "66cd5557",
   "metadata": {},
   "outputs": [
    {
     "data": {
      "text/plain": [
       "['toyota', 'subaru', 'bmw', 'audi']"
      ]
     },
     "execution_count": 234,
     "metadata": {},
     "output_type": "execute_result"
    }
   ],
   "source": [
    "cars"
   ]
  },
  {
   "cell_type": "code",
   "execution_count": 240,
   "id": "50f02c2d",
   "metadata": {},
   "outputs": [
    {
     "data": {
      "text/plain": [
       "[1, 9, 25]"
      ]
     },
     "execution_count": 240,
     "metadata": {},
     "output_type": "execute_result"
    }
   ],
   "source": [
    "[value**2 for  value in num]"
   ]
  },
  {
   "cell_type": "code",
   "execution_count": 241,
   "id": "af8fcb2f",
   "metadata": {},
   "outputs": [
    {
     "data": {
      "text/plain": [
       "list"
      ]
     },
     "execution_count": 241,
     "metadata": {},
     "output_type": "execute_result"
    }
   ],
   "source": [
    "type([value**2 for  value in num])"
   ]
  },
  {
   "cell_type": "code",
   "execution_count": 239,
   "id": "9f597397",
   "metadata": {},
   "outputs": [],
   "source": [
    "num = [1, 3, 5]"
   ]
  },
  {
   "cell_type": "code",
   "execution_count": 242,
   "id": "efb4769b",
   "metadata": {},
   "outputs": [],
   "source": [
    "places = [\"newyork\",\"miami\",\"dallas\"]"
   ]
  },
  {
   "cell_type": "code",
   "execution_count": 243,
   "id": "439fa3a8",
   "metadata": {},
   "outputs": [
    {
     "name": "stdout",
     "output_type": "stream",
     "text": [
      "['newyork', 'miami', 'dallas']\n"
     ]
    }
   ],
   "source": [
    "print(places)"
   ]
  },
  {
   "cell_type": "code",
   "execution_count": 245,
   "id": "02fc98a7",
   "metadata": {},
   "outputs": [
    {
     "name": "stdout",
     "output_type": "stream",
     "text": [
      "['dallas', 'miami', 'newyork']\n"
     ]
    }
   ],
   "source": [
    "print(sorted(places))"
   ]
  },
  {
   "cell_type": "code",
   "execution_count": 246,
   "id": "9bebeaca",
   "metadata": {},
   "outputs": [
    {
     "name": "stdout",
     "output_type": "stream",
     "text": [
      "['newyork', 'miami', 'dallas']\n"
     ]
    }
   ],
   "source": [
    "print(places)"
   ]
  },
  {
   "cell_type": "code",
   "execution_count": 248,
   "id": "82293cdd",
   "metadata": {},
   "outputs": [
    {
     "name": "stdout",
     "output_type": "stream",
     "text": [
      "None\n"
     ]
    }
   ],
   "source": [
    "print(places.sort())"
   ]
  },
  {
   "cell_type": "code",
   "execution_count": 249,
   "id": "4eb65ba5",
   "metadata": {},
   "outputs": [
    {
     "data": {
      "text/plain": [
       "['dallas', 'miami', 'newyork']"
      ]
     },
     "execution_count": 249,
     "metadata": {},
     "output_type": "execute_result"
    }
   ],
   "source": [
    "places"
   ]
  },
  {
   "cell_type": "code",
   "execution_count": 250,
   "id": "7e5b5d79",
   "metadata": {},
   "outputs": [],
   "source": [
    "places.sort(reverse=True)"
   ]
  },
  {
   "cell_type": "code",
   "execution_count": 251,
   "id": "d45511f1",
   "metadata": {},
   "outputs": [
    {
     "data": {
      "text/plain": [
       "['newyork', 'miami', 'dallas']"
      ]
     },
     "execution_count": 251,
     "metadata": {},
     "output_type": "execute_result"
    }
   ],
   "source": [
    "places"
   ]
  },
  {
   "cell_type": "code",
   "execution_count": 252,
   "id": "35c5372c",
   "metadata": {},
   "outputs": [
    {
     "data": {
      "text/plain": [
       "['newyork', 'miami', 'dallas']"
      ]
     },
     "execution_count": 252,
     "metadata": {},
     "output_type": "execute_result"
    }
   ],
   "source": [
    "places"
   ]
  },
  {
   "cell_type": "code",
   "execution_count": 253,
   "id": "1ba4f4e7",
   "metadata": {},
   "outputs": [],
   "source": [
    "places.reverse()"
   ]
  },
  {
   "cell_type": "code",
   "execution_count": 254,
   "id": "18474559",
   "metadata": {},
   "outputs": [
    {
     "data": {
      "text/plain": [
       "['dallas', 'miami', 'newyork']"
      ]
     },
     "execution_count": 254,
     "metadata": {},
     "output_type": "execute_result"
    }
   ],
   "source": [
    "places"
   ]
  },
  {
   "cell_type": "code",
   "execution_count": 256,
   "id": "2c028369",
   "metadata": {},
   "outputs": [
    {
     "data": {
      "text/plain": [
       "3"
      ]
     },
     "execution_count": 256,
     "metadata": {},
     "output_type": "execute_result"
    }
   ],
   "source": [
    "len(places)"
   ]
  },
  {
   "cell_type": "code",
   "execution_count": 258,
   "id": "23fee4a2",
   "metadata": {},
   "outputs": [],
   "source": [
    "friends = [\"Pranaya\",\"deepak\",\"uday\",\"vishwas\"]"
   ]
  },
  {
   "cell_type": "code",
   "execution_count": 259,
   "id": "27b4083d",
   "metadata": {},
   "outputs": [
    {
     "name": "stdout",
     "output_type": "stream",
     "text": [
      "Pranaya\n",
      "deepak\n",
      "uday\n",
      "vishwas\n"
     ]
    }
   ],
   "source": [
    "for friend in friends:\n",
    "    print(friend)"
   ]
  },
  {
   "cell_type": "code",
   "execution_count": 264,
   "id": "91e575de",
   "metadata": {},
   "outputs": [
    {
     "name": "stdout",
     "output_type": "stream",
     "text": [
      "Pranaya, that was great friendship!\n",
      "I want to me all of you very soon, Pranaya. \n",
      "\n",
      "Deepak, that was great friendship!\n",
      "I want to me all of you very soon, Deepak. \n",
      "\n",
      "Uday, that was great friendship!\n",
      "I want to me all of you very soon, Uday. \n",
      "\n",
      "Vishwas, that was great friendship!\n",
      "I want to me all of you very soon, Vishwas. \n",
      "\n",
      "Thank you every one for coming!\n"
     ]
    }
   ],
   "source": [
    "for friend in friends:\n",
    "    print(f\"{friend.title()}, that was great friendship!\")\n",
    "    print(f\"I want to me all of you very soon, {friend.title()}. \\n\")\n",
    "print(f\"Thank you every one for coming!\")"
   ]
  },
  {
   "cell_type": "code",
   "execution_count": 265,
   "id": "127ddcee",
   "metadata": {},
   "outputs": [],
   "source": [
    "#Making Numerical list"
   ]
  },
  {
   "cell_type": "code",
   "execution_count": 266,
   "id": "646cf43f",
   "metadata": {},
   "outputs": [],
   "source": [
    "#using range() function"
   ]
  },
  {
   "cell_type": "code",
   "execution_count": 267,
   "id": "a08328b7",
   "metadata": {},
   "outputs": [
    {
     "name": "stdout",
     "output_type": "stream",
     "text": [
      "1\n",
      "2\n",
      "3\n",
      "4\n"
     ]
    }
   ],
   "source": [
    "for value in range(1,5):\n",
    "    print(value)"
   ]
  },
  {
   "cell_type": "code",
   "execution_count": 268,
   "id": "0e7e6b1a",
   "metadata": {},
   "outputs": [
    {
     "name": "stdout",
     "output_type": "stream",
     "text": [
      "1\n",
      "2\n",
      "3\n",
      "4\n",
      "5\n"
     ]
    }
   ],
   "source": [
    "for value in range(1,6):\n",
    "    print(value)"
   ]
  },
  {
   "cell_type": "code",
   "execution_count": 269,
   "id": "72582d8f",
   "metadata": {},
   "outputs": [],
   "source": [
    "num = list(range(1,6))"
   ]
  },
  {
   "cell_type": "code",
   "execution_count": 270,
   "id": "13f07c27",
   "metadata": {},
   "outputs": [
    {
     "data": {
      "text/plain": [
       "[1, 2, 3, 4, 5]"
      ]
     },
     "execution_count": 270,
     "metadata": {},
     "output_type": "execute_result"
    }
   ],
   "source": [
    "num"
   ]
  },
  {
   "cell_type": "code",
   "execution_count": 271,
   "id": "6cae15c8",
   "metadata": {},
   "outputs": [],
   "source": [
    "even_numbers = list(range(2,11,2))"
   ]
  },
  {
   "cell_type": "code",
   "execution_count": 272,
   "id": "f333b3c7",
   "metadata": {},
   "outputs": [
    {
     "data": {
      "text/plain": [
       "[2, 4, 6, 8, 10]"
      ]
     },
     "execution_count": 272,
     "metadata": {},
     "output_type": "execute_result"
    }
   ],
   "source": [
    "even_numbers"
   ]
  },
  {
   "cell_type": "code",
   "execution_count": 280,
   "id": "e029e344",
   "metadata": {},
   "outputs": [
    {
     "name": "stdout",
     "output_type": "stream",
     "text": [
      "[1, 4, 9, 16, 25, 36, 49, 64, 81, 100]\n"
     ]
    }
   ],
   "source": [
    "squares = []\n",
    "for square in range(1,11):\n",
    "    square = square ** 2\n",
    "    squares.append(square)\n",
    "print(squares)"
   ]
  },
  {
   "cell_type": "code",
   "execution_count": 281,
   "id": "e8c5a58d",
   "metadata": {},
   "outputs": [],
   "source": [
    "#Simple statistics with a list of numbers"
   ]
  },
  {
   "cell_type": "code",
   "execution_count": 284,
   "id": "0ea83666",
   "metadata": {},
   "outputs": [],
   "source": [
    "digit = list(range(1,100,5))"
   ]
  },
  {
   "cell_type": "code",
   "execution_count": 285,
   "id": "8d06da1e",
   "metadata": {},
   "outputs": [
    {
     "data": {
      "text/plain": [
       "1"
      ]
     },
     "execution_count": 285,
     "metadata": {},
     "output_type": "execute_result"
    }
   ],
   "source": [
    "min(digit)"
   ]
  },
  {
   "cell_type": "code",
   "execution_count": 286,
   "id": "a85bcfa2",
   "metadata": {},
   "outputs": [
    {
     "data": {
      "text/plain": [
       "96"
      ]
     },
     "execution_count": 286,
     "metadata": {},
     "output_type": "execute_result"
    }
   ],
   "source": [
    "max(digit)"
   ]
  },
  {
   "cell_type": "code",
   "execution_count": 287,
   "id": "d7038eae",
   "metadata": {},
   "outputs": [
    {
     "name": "stdout",
     "output_type": "stream",
     "text": [
      "[1, 6, 11, 16, 21, 26, 31, 36, 41, 46, 51, 56, 61, 66, 71, 76, 81, 86, 91, 96]\n"
     ]
    }
   ],
   "source": [
    "print(digit)"
   ]
  },
  {
   "cell_type": "code",
   "execution_count": 294,
   "id": "b0830ab2",
   "metadata": {},
   "outputs": [
    {
     "name": "stdout",
     "output_type": "stream",
     "text": [
      "[95]\n"
     ]
    }
   ],
   "source": [
    "for i in digit:\n",
    "    s = [i - 1]\n",
    "print(s)"
   ]
  },
  {
   "cell_type": "code",
   "execution_count": 291,
   "id": "5f2620a2",
   "metadata": {},
   "outputs": [
    {
     "data": {
      "text/plain": [
       "95"
      ]
     },
     "execution_count": 291,
     "metadata": {},
     "output_type": "execute_result"
    }
   ],
   "source": [
    "s"
   ]
  },
  {
   "cell_type": "code",
   "execution_count": 295,
   "id": "ce890609",
   "metadata": {},
   "outputs": [
    {
     "data": {
      "text/plain": [
       "970"
      ]
     },
     "execution_count": 295,
     "metadata": {},
     "output_type": "execute_result"
    }
   ],
   "source": [
    "sum(digit)"
   ]
  },
  {
   "cell_type": "code",
   "execution_count": 297,
   "id": "82d6ca35",
   "metadata": {},
   "outputs": [],
   "source": [
    "squares = [value**2 for value in digit]"
   ]
  },
  {
   "cell_type": "code",
   "execution_count": 300,
   "id": "ac5f550d",
   "metadata": {},
   "outputs": [
    {
     "name": "stdout",
     "output_type": "stream",
     "text": [
      "[1, 36, 121, 256, 441, 676, 961, 1296, 1681, 2116, 2601, 3136, 3721, 4356, 5041, 5776, 6561, 7396, 8281, 9216]\n"
     ]
    }
   ],
   "source": [
    "print(squares)"
   ]
  },
  {
   "cell_type": "code",
   "execution_count": 302,
   "id": "9b09ea9d",
   "metadata": {},
   "outputs": [
    {
     "data": {
      "text/plain": [
       "['Pranaya', 'deepak', 'uday', 'vishwas']"
      ]
     },
     "execution_count": 302,
     "metadata": {},
     "output_type": "execute_result"
    }
   ],
   "source": [
    "friends"
   ]
  },
  {
   "cell_type": "code",
   "execution_count": 315,
   "id": "d9b69cc7",
   "metadata": {},
   "outputs": [
    {
     "name": "stdout",
     "output_type": "stream",
     "text": [
      "[]\n"
     ]
    }
   ],
   "source": [
    "print(friends[-1:0])"
   ]
  },
  {
   "cell_type": "code",
   "execution_count": 1,
   "id": "43569851",
   "metadata": {},
   "outputs": [
    {
     "data": {
      "text/plain": [
       "'/Users/saichandrareddy'"
      ]
     },
     "execution_count": 1,
     "metadata": {},
     "output_type": "execute_result"
    }
   ],
   "source": [
    "pwd"
   ]
  },
  {
   "cell_type": "code",
   "execution_count": null,
   "id": "c7827ed5",
   "metadata": {},
   "outputs": [],
   "source": []
  }
 ],
 "metadata": {
  "kernelspec": {
   "display_name": "Python 3 (ipykernel)",
   "language": "python",
   "name": "python3"
  },
  "language_info": {
   "codemirror_mode": {
    "name": "ipython",
    "version": 3
   },
   "file_extension": ".py",
   "mimetype": "text/x-python",
   "name": "python",
   "nbconvert_exporter": "python",
   "pygments_lexer": "ipython3",
   "version": "3.9.12"
  }
 },
 "nbformat": 4,
 "nbformat_minor": 5
}
